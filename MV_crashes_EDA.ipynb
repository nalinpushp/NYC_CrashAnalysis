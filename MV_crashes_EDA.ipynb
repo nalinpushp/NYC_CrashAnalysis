{
 "cells": [
  {
   "cell_type": "code",
   "execution_count": 1,
   "id": "0082ae06-6783-4433-ba61-fa25ef3cce26",
   "metadata": {
    "tags": []
   },
   "outputs": [],
   "source": [
    "import pandas as pd \n",
    "import numpy as np"
   ]
  },
  {
   "cell_type": "code",
   "execution_count": 2,
   "id": "ed328c62-e7f9-4225-9d63-246cc63e1285",
   "metadata": {
    "tags": []
   },
   "outputs": [
    {
     "name": "stderr",
     "output_type": "stream",
     "text": [
      "C:\\Users\\asus\\AppData\\Local\\Temp\\ipykernel_21884\\1104844396.py:1: DtypeWarning: Columns (3) have mixed types. Specify dtype option on import or set low_memory=False.\n",
      "  df=pd.read_csv(\"../data/t1.csv\")\n"
     ]
    }
   ],
   "source": [
    "df=pd.read_csv(\"../data/t1.csv\")"
   ]
  },
  {
   "cell_type": "code",
   "execution_count": 3,
   "id": "116b2229-2bfd-4b9c-a55b-c19b2b556f55",
   "metadata": {
    "tags": []
   },
   "outputs": [
    {
     "data": {
      "text/html": [
       "<div>\n",
       "<style scoped>\n",
       "    .dataframe tbody tr th:only-of-type {\n",
       "        vertical-align: middle;\n",
       "    }\n",
       "\n",
       "    .dataframe tbody tr th {\n",
       "        vertical-align: top;\n",
       "    }\n",
       "\n",
       "    .dataframe thead th {\n",
       "        text-align: right;\n",
       "    }\n",
       "</style>\n",
       "<table border=\"1\" class=\"dataframe\">\n",
       "  <thead>\n",
       "    <tr style=\"text-align: right;\">\n",
       "      <th></th>\n",
       "      <th>CRASH DATE</th>\n",
       "      <th>CRASH TIME</th>\n",
       "      <th>BOROUGH</th>\n",
       "      <th>ZIP CODE</th>\n",
       "      <th>LATITUDE</th>\n",
       "      <th>LONGITUDE</th>\n",
       "      <th>LOCATION</th>\n",
       "      <th>ON STREET NAME</th>\n",
       "      <th>CROSS STREET NAME</th>\n",
       "      <th>OFF STREET NAME</th>\n",
       "      <th>...</th>\n",
       "      <th>CONTRIBUTING FACTOR VEHICLE 2</th>\n",
       "      <th>CONTRIBUTING FACTOR VEHICLE 3</th>\n",
       "      <th>CONTRIBUTING FACTOR VEHICLE 4</th>\n",
       "      <th>CONTRIBUTING FACTOR VEHICLE 5</th>\n",
       "      <th>COLLISION_ID</th>\n",
       "      <th>VEHICLE TYPE CODE 1</th>\n",
       "      <th>VEHICLE TYPE CODE 2</th>\n",
       "      <th>VEHICLE TYPE CODE 3</th>\n",
       "      <th>VEHICLE TYPE CODE 4</th>\n",
       "      <th>VEHICLE TYPE CODE 5</th>\n",
       "    </tr>\n",
       "  </thead>\n",
       "  <tbody>\n",
       "    <tr>\n",
       "      <th>0</th>\n",
       "      <td>02/27/2023</td>\n",
       "      <td>8:51</td>\n",
       "      <td>NaN</td>\n",
       "      <td>NaN</td>\n",
       "      <td>40.706630</td>\n",
       "      <td>-73.806595</td>\n",
       "      <td>(40.70663, -73.806595)</td>\n",
       "      <td>HILLSIDE AVENUE</td>\n",
       "      <td>NaN</td>\n",
       "      <td>NaN</td>\n",
       "      <td>...</td>\n",
       "      <td>Unspecified</td>\n",
       "      <td>NaN</td>\n",
       "      <td>NaN</td>\n",
       "      <td>NaN</td>\n",
       "      <td>4608757</td>\n",
       "      <td>Sedan</td>\n",
       "      <td>Station Wagon/Sport Utility Vehicle</td>\n",
       "      <td>NaN</td>\n",
       "      <td>NaN</td>\n",
       "      <td>NaN</td>\n",
       "    </tr>\n",
       "    <tr>\n",
       "      <th>1</th>\n",
       "      <td>02/27/2023</td>\n",
       "      <td>17:30</td>\n",
       "      <td>BROOKLYN</td>\n",
       "      <td>11230.0</td>\n",
       "      <td>40.612550</td>\n",
       "      <td>-73.962870</td>\n",
       "      <td>(40.61255, -73.96287)</td>\n",
       "      <td>CONEY ISLAND AVENUE</td>\n",
       "      <td>AVENUE O</td>\n",
       "      <td>NaN</td>\n",
       "      <td>...</td>\n",
       "      <td>NaN</td>\n",
       "      <td>NaN</td>\n",
       "      <td>NaN</td>\n",
       "      <td>NaN</td>\n",
       "      <td>4608924</td>\n",
       "      <td>NaN</td>\n",
       "      <td>NaN</td>\n",
       "      <td>NaN</td>\n",
       "      <td>NaN</td>\n",
       "      <td>NaN</td>\n",
       "    </tr>\n",
       "    <tr>\n",
       "      <th>2</th>\n",
       "      <td>02/27/2023</td>\n",
       "      <td>19:40</td>\n",
       "      <td>BRONX</td>\n",
       "      <td>10466.0</td>\n",
       "      <td>40.899250</td>\n",
       "      <td>-73.858185</td>\n",
       "      <td>(40.89925, -73.858185)</td>\n",
       "      <td>NaN</td>\n",
       "      <td>NaN</td>\n",
       "      <td>4380      BRONX BOULEVARD</td>\n",
       "      <td>...</td>\n",
       "      <td>NaN</td>\n",
       "      <td>NaN</td>\n",
       "      <td>NaN</td>\n",
       "      <td>NaN</td>\n",
       "      <td>4608831</td>\n",
       "      <td>Station Wagon/Sport Utility Vehicle</td>\n",
       "      <td>NaN</td>\n",
       "      <td>NaN</td>\n",
       "      <td>NaN</td>\n",
       "      <td>NaN</td>\n",
       "    </tr>\n",
       "    <tr>\n",
       "      <th>3</th>\n",
       "      <td>02/27/2023</td>\n",
       "      <td>1:28</td>\n",
       "      <td>NaN</td>\n",
       "      <td>NaN</td>\n",
       "      <td>40.760155</td>\n",
       "      <td>-73.998800</td>\n",
       "      <td>(40.760155, -73.9988)</td>\n",
       "      <td>WEST 41 STREET</td>\n",
       "      <td>NaN</td>\n",
       "      <td>NaN</td>\n",
       "      <td>...</td>\n",
       "      <td>Traffic Control Disregarded</td>\n",
       "      <td>NaN</td>\n",
       "      <td>NaN</td>\n",
       "      <td>NaN</td>\n",
       "      <td>4608898</td>\n",
       "      <td>Sedan</td>\n",
       "      <td>Bus</td>\n",
       "      <td>NaN</td>\n",
       "      <td>NaN</td>\n",
       "      <td>NaN</td>\n",
       "    </tr>\n",
       "    <tr>\n",
       "      <th>4</th>\n",
       "      <td>02/27/2023</td>\n",
       "      <td>20:15</td>\n",
       "      <td>BRONX</td>\n",
       "      <td>10469.0</td>\n",
       "      <td>40.879110</td>\n",
       "      <td>-73.843250</td>\n",
       "      <td>(40.87911, -73.84325)</td>\n",
       "      <td>BOSTON ROAD</td>\n",
       "      <td>EAST 222 STREET</td>\n",
       "      <td>NaN</td>\n",
       "      <td>...</td>\n",
       "      <td>Unspecified</td>\n",
       "      <td>NaN</td>\n",
       "      <td>NaN</td>\n",
       "      <td>NaN</td>\n",
       "      <td>4608832</td>\n",
       "      <td>Sedan</td>\n",
       "      <td>Sedan</td>\n",
       "      <td>NaN</td>\n",
       "      <td>NaN</td>\n",
       "      <td>NaN</td>\n",
       "    </tr>\n",
       "  </tbody>\n",
       "</table>\n",
       "<p>5 rows × 29 columns</p>\n",
       "</div>"
      ],
      "text/plain": [
       "   CRASH DATE CRASH TIME   BOROUGH ZIP CODE   LATITUDE  LONGITUDE  \\\n",
       "0  02/27/2023       8:51       NaN      NaN  40.706630 -73.806595   \n",
       "1  02/27/2023      17:30  BROOKLYN  11230.0  40.612550 -73.962870   \n",
       "2  02/27/2023      19:40     BRONX  10466.0  40.899250 -73.858185   \n",
       "3  02/27/2023       1:28       NaN      NaN  40.760155 -73.998800   \n",
       "4  02/27/2023      20:15     BRONX  10469.0  40.879110 -73.843250   \n",
       "\n",
       "                 LOCATION       ON STREET NAME CROSS STREET NAME  \\\n",
       "0  (40.70663, -73.806595)      HILLSIDE AVENUE               NaN   \n",
       "1   (40.61255, -73.96287)  CONEY ISLAND AVENUE          AVENUE O   \n",
       "2  (40.89925, -73.858185)                  NaN               NaN   \n",
       "3   (40.760155, -73.9988)       WEST 41 STREET               NaN   \n",
       "4   (40.87911, -73.84325)          BOSTON ROAD   EAST 222 STREET   \n",
       "\n",
       "             OFF STREET NAME  ...  CONTRIBUTING FACTOR VEHICLE 2  \\\n",
       "0                        NaN  ...                    Unspecified   \n",
       "1                        NaN  ...                            NaN   \n",
       "2  4380      BRONX BOULEVARD  ...                            NaN   \n",
       "3                        NaN  ...    Traffic Control Disregarded   \n",
       "4                        NaN  ...                    Unspecified   \n",
       "\n",
       "   CONTRIBUTING FACTOR VEHICLE 3  CONTRIBUTING FACTOR VEHICLE 4  \\\n",
       "0                            NaN                            NaN   \n",
       "1                            NaN                            NaN   \n",
       "2                            NaN                            NaN   \n",
       "3                            NaN                            NaN   \n",
       "4                            NaN                            NaN   \n",
       "\n",
       "   CONTRIBUTING FACTOR VEHICLE 5  COLLISION_ID  \\\n",
       "0                            NaN       4608757   \n",
       "1                            NaN       4608924   \n",
       "2                            NaN       4608831   \n",
       "3                            NaN       4608898   \n",
       "4                            NaN       4608832   \n",
       "\n",
       "                   VEHICLE TYPE CODE 1                  VEHICLE TYPE CODE 2  \\\n",
       "0                                Sedan  Station Wagon/Sport Utility Vehicle   \n",
       "1                                  NaN                                  NaN   \n",
       "2  Station Wagon/Sport Utility Vehicle                                  NaN   \n",
       "3                                Sedan                                  Bus   \n",
       "4                                Sedan                                Sedan   \n",
       "\n",
       "   VEHICLE TYPE CODE 3 VEHICLE TYPE CODE 4 VEHICLE TYPE CODE 5  \n",
       "0                  NaN                 NaN                 NaN  \n",
       "1                  NaN                 NaN                 NaN  \n",
       "2                  NaN                 NaN                 NaN  \n",
       "3                  NaN                 NaN                 NaN  \n",
       "4                  NaN                 NaN                 NaN  \n",
       "\n",
       "[5 rows x 29 columns]"
      ]
     },
     "execution_count": 3,
     "metadata": {},
     "output_type": "execute_result"
    }
   ],
   "source": [
    "df.head()"
   ]
  },
  {
   "cell_type": "code",
   "execution_count": 4,
   "id": "04f983c5-dd6b-40af-bd03-734f2fb66d16",
   "metadata": {
    "tags": []
   },
   "outputs": [
    {
     "data": {
      "text/plain": [
       "(1972605, 29)"
      ]
     },
     "execution_count": 4,
     "metadata": {},
     "output_type": "execute_result"
    }
   ],
   "source": [
    "df.shape"
   ]
  },
  {
   "cell_type": "code",
   "execution_count": 5,
   "id": "eb8bbdf7-eb8d-4689-aebf-03198b49c991",
   "metadata": {
    "tags": []
   },
   "outputs": [
    {
     "data": {
      "text/html": [
       "<div>\n",
       "<style scoped>\n",
       "    .dataframe tbody tr th:only-of-type {\n",
       "        vertical-align: middle;\n",
       "    }\n",
       "\n",
       "    .dataframe tbody tr th {\n",
       "        vertical-align: top;\n",
       "    }\n",
       "\n",
       "    .dataframe thead th {\n",
       "        text-align: right;\n",
       "    }\n",
       "</style>\n",
       "<table border=\"1\" class=\"dataframe\">\n",
       "  <thead>\n",
       "    <tr style=\"text-align: right;\">\n",
       "      <th></th>\n",
       "      <th>CRASH DATE</th>\n",
       "      <th>CRASH TIME</th>\n",
       "      <th>BOROUGH</th>\n",
       "      <th>ZIP CODE</th>\n",
       "      <th>LATITUDE</th>\n",
       "      <th>LONGITUDE</th>\n",
       "      <th>LOCATION</th>\n",
       "      <th>ON STREET NAME</th>\n",
       "      <th>CROSS STREET NAME</th>\n",
       "      <th>OFF STREET NAME</th>\n",
       "      <th>...</th>\n",
       "      <th>CONTRIBUTING FACTOR VEHICLE 2</th>\n",
       "      <th>CONTRIBUTING FACTOR VEHICLE 3</th>\n",
       "      <th>CONTRIBUTING FACTOR VEHICLE 4</th>\n",
       "      <th>CONTRIBUTING FACTOR VEHICLE 5</th>\n",
       "      <th>COLLISION_ID</th>\n",
       "      <th>VEHICLE TYPE CODE 1</th>\n",
       "      <th>VEHICLE TYPE CODE 2</th>\n",
       "      <th>VEHICLE TYPE CODE 3</th>\n",
       "      <th>VEHICLE TYPE CODE 4</th>\n",
       "      <th>VEHICLE TYPE CODE 5</th>\n",
       "    </tr>\n",
       "  </thead>\n",
       "  <tbody>\n",
       "    <tr>\n",
       "      <th>1972600</th>\n",
       "      <td>07/01/2012</td>\n",
       "      <td>16:28</td>\n",
       "      <td>BRONX</td>\n",
       "      <td>10467.0</td>\n",
       "      <td>40.865448</td>\n",
       "      <td>-73.866341</td>\n",
       "      <td>(40.8654483, -73.8663413)</td>\n",
       "      <td>CRUGER AVENUE</td>\n",
       "      <td>ALLERTON AVENUE</td>\n",
       "      <td>NaN</td>\n",
       "      <td>...</td>\n",
       "      <td>Unspecified</td>\n",
       "      <td>NaN</td>\n",
       "      <td>NaN</td>\n",
       "      <td>NaN</td>\n",
       "      <td>102726</td>\n",
       "      <td>PASSENGER VEHICLE</td>\n",
       "      <td>PASSENGER VEHICLE</td>\n",
       "      <td>NaN</td>\n",
       "      <td>NaN</td>\n",
       "      <td>NaN</td>\n",
       "    </tr>\n",
       "    <tr>\n",
       "      <th>1972601</th>\n",
       "      <td>07/01/2012</td>\n",
       "      <td>15:35</td>\n",
       "      <td>NaN</td>\n",
       "      <td>NaN</td>\n",
       "      <td>NaN</td>\n",
       "      <td>NaN</td>\n",
       "      <td>NaN</td>\n",
       "      <td>NaN</td>\n",
       "      <td>NaN</td>\n",
       "      <td>NaN</td>\n",
       "      <td>...</td>\n",
       "      <td>Unspecified</td>\n",
       "      <td>NaN</td>\n",
       "      <td>NaN</td>\n",
       "      <td>NaN</td>\n",
       "      <td>2879029</td>\n",
       "      <td>PICK-UP TRUCK</td>\n",
       "      <td>PASSENGER VEHICLE</td>\n",
       "      <td>NaN</td>\n",
       "      <td>NaN</td>\n",
       "      <td>NaN</td>\n",
       "    </tr>\n",
       "    <tr>\n",
       "      <th>1972602</th>\n",
       "      <td>07/01/2012</td>\n",
       "      <td>22:13</td>\n",
       "      <td>MANHATTAN</td>\n",
       "      <td>10010.0</td>\n",
       "      <td>40.740184</td>\n",
       "      <td>-73.986363</td>\n",
       "      <td>(40.7401843, -73.986363)</td>\n",
       "      <td>EAST 23 STREET</td>\n",
       "      <td>PARK AVENUE SOUTH</td>\n",
       "      <td>NaN</td>\n",
       "      <td>...</td>\n",
       "      <td>Unspecified</td>\n",
       "      <td>NaN</td>\n",
       "      <td>NaN</td>\n",
       "      <td>NaN</td>\n",
       "      <td>21677</td>\n",
       "      <td>SPORT UTILITY / STATION WAGON</td>\n",
       "      <td>PASSENGER VEHICLE</td>\n",
       "      <td>NaN</td>\n",
       "      <td>NaN</td>\n",
       "      <td>NaN</td>\n",
       "    </tr>\n",
       "    <tr>\n",
       "      <th>1972603</th>\n",
       "      <td>07/01/2012</td>\n",
       "      <td>13:32</td>\n",
       "      <td>NaN</td>\n",
       "      <td>NaN</td>\n",
       "      <td>NaN</td>\n",
       "      <td>NaN</td>\n",
       "      <td>NaN</td>\n",
       "      <td>OAK POINT AVENUE</td>\n",
       "      <td>BARRY STREET</td>\n",
       "      <td>NaN</td>\n",
       "      <td>...</td>\n",
       "      <td>Unspecified</td>\n",
       "      <td>NaN</td>\n",
       "      <td>NaN</td>\n",
       "      <td>NaN</td>\n",
       "      <td>76207</td>\n",
       "      <td>SMALL COM VEH(4 TIRES)</td>\n",
       "      <td>PASSENGER VEHICLE</td>\n",
       "      <td>NaN</td>\n",
       "      <td>NaN</td>\n",
       "      <td>NaN</td>\n",
       "    </tr>\n",
       "    <tr>\n",
       "      <th>1972604</th>\n",
       "      <td>07/01/2012</td>\n",
       "      <td>4:18</td>\n",
       "      <td>STATEN ISLAND</td>\n",
       "      <td>10312.0</td>\n",
       "      <td>40.538421</td>\n",
       "      <td>-74.156991</td>\n",
       "      <td>(40.5384212, -74.1569907)</td>\n",
       "      <td>WINCHESTER AVENUE</td>\n",
       "      <td>HILLCREST STREET</td>\n",
       "      <td>NaN</td>\n",
       "      <td>...</td>\n",
       "      <td>Unspecified</td>\n",
       "      <td>NaN</td>\n",
       "      <td>NaN</td>\n",
       "      <td>NaN</td>\n",
       "      <td>293129</td>\n",
       "      <td>PASSENGER VEHICLE</td>\n",
       "      <td>SPORT UTILITY / STATION WAGON</td>\n",
       "      <td>NaN</td>\n",
       "      <td>NaN</td>\n",
       "      <td>NaN</td>\n",
       "    </tr>\n",
       "  </tbody>\n",
       "</table>\n",
       "<p>5 rows × 29 columns</p>\n",
       "</div>"
      ],
      "text/plain": [
       "         CRASH DATE CRASH TIME        BOROUGH ZIP CODE   LATITUDE  LONGITUDE  \\\n",
       "1972600  07/01/2012      16:28          BRONX  10467.0  40.865448 -73.866341   \n",
       "1972601  07/01/2012      15:35            NaN      NaN        NaN        NaN   \n",
       "1972602  07/01/2012      22:13      MANHATTAN  10010.0  40.740184 -73.986363   \n",
       "1972603  07/01/2012      13:32            NaN      NaN        NaN        NaN   \n",
       "1972604  07/01/2012       4:18  STATEN ISLAND  10312.0  40.538421 -74.156991   \n",
       "\n",
       "                          LOCATION                    ON STREET NAME  \\\n",
       "1972600  (40.8654483, -73.8663413)  CRUGER AVENUE                      \n",
       "1972601                        NaN                               NaN   \n",
       "1972602   (40.7401843, -73.986363)  EAST 23 STREET                     \n",
       "1972603                        NaN  OAK POINT AVENUE                   \n",
       "1972604  (40.5384212, -74.1569907)  WINCHESTER AVENUE                  \n",
       "\n",
       "                        CROSS STREET NAME OFF STREET NAME  ...  \\\n",
       "1972600  ALLERTON AVENUE                              NaN  ...   \n",
       "1972601                               NaN             NaN  ...   \n",
       "1972602  PARK AVENUE SOUTH                            NaN  ...   \n",
       "1972603  BARRY STREET                                 NaN  ...   \n",
       "1972604  HILLCREST STREET                             NaN  ...   \n",
       "\n",
       "         CONTRIBUTING FACTOR VEHICLE 2  CONTRIBUTING FACTOR VEHICLE 3  \\\n",
       "1972600                    Unspecified                            NaN   \n",
       "1972601                    Unspecified                            NaN   \n",
       "1972602                    Unspecified                            NaN   \n",
       "1972603                    Unspecified                            NaN   \n",
       "1972604                    Unspecified                            NaN   \n",
       "\n",
       "         CONTRIBUTING FACTOR VEHICLE 4  CONTRIBUTING FACTOR VEHICLE 5  \\\n",
       "1972600                            NaN                            NaN   \n",
       "1972601                            NaN                            NaN   \n",
       "1972602                            NaN                            NaN   \n",
       "1972603                            NaN                            NaN   \n",
       "1972604                            NaN                            NaN   \n",
       "\n",
       "         COLLISION_ID            VEHICLE TYPE CODE 1  \\\n",
       "1972600        102726              PASSENGER VEHICLE   \n",
       "1972601       2879029                  PICK-UP TRUCK   \n",
       "1972602         21677  SPORT UTILITY / STATION WAGON   \n",
       "1972603         76207        SMALL COM VEH(4 TIRES)    \n",
       "1972604        293129              PASSENGER VEHICLE   \n",
       "\n",
       "                   VEHICLE TYPE CODE 2  VEHICLE TYPE CODE 3  \\\n",
       "1972600              PASSENGER VEHICLE                  NaN   \n",
       "1972601              PASSENGER VEHICLE                  NaN   \n",
       "1972602              PASSENGER VEHICLE                  NaN   \n",
       "1972603              PASSENGER VEHICLE                  NaN   \n",
       "1972604  SPORT UTILITY / STATION WAGON                  NaN   \n",
       "\n",
       "        VEHICLE TYPE CODE 4 VEHICLE TYPE CODE 5  \n",
       "1972600                 NaN                 NaN  \n",
       "1972601                 NaN                 NaN  \n",
       "1972602                 NaN                 NaN  \n",
       "1972603                 NaN                 NaN  \n",
       "1972604                 NaN                 NaN  \n",
       "\n",
       "[5 rows x 29 columns]"
      ]
     },
     "execution_count": 5,
     "metadata": {},
     "output_type": "execute_result"
    }
   ],
   "source": [
    "df.tail()"
   ]
  },
  {
   "cell_type": "code",
   "execution_count": 6,
   "id": "5c2f2250-a6b6-473a-9407-0748cd75a603",
   "metadata": {
    "tags": []
   },
   "outputs": [
    {
     "data": {
      "text/plain": [
       "0          02/27/2023\n",
       "1          02/27/2023\n",
       "2          02/27/2023\n",
       "3          02/27/2023\n",
       "4          02/27/2023\n",
       "              ...    \n",
       "1972600    07/01/2012\n",
       "1972601    07/01/2012\n",
       "1972602    07/01/2012\n",
       "1972603    07/01/2012\n",
       "1972604    07/01/2012\n",
       "Name: CRASH DATE, Length: 1972605, dtype: object"
      ]
     },
     "execution_count": 6,
     "metadata": {},
     "output_type": "execute_result"
    }
   ],
   "source": [
    "df['CRASH DATE']"
   ]
  },
  {
   "cell_type": "code",
   "execution_count": 7,
   "id": "e62a6a46-a4f7-40c7-b02e-7f48b45d685f",
   "metadata": {
    "tags": []
   },
   "outputs": [],
   "source": [
    "df['CRASH DATE'] = pd.to_datetime(df['CRASH DATE'], format='%m/%d/%Y')"
   ]
  },
  {
   "cell_type": "code",
   "execution_count": 8,
   "id": "0e418bd8-9d53-4b6e-afff-a2482bf1426a",
   "metadata": {
    "tags": []
   },
   "outputs": [
    {
     "data": {
      "text/plain": [
       "0         2023-02-27\n",
       "1         2023-02-27\n",
       "2         2023-02-27\n",
       "3         2023-02-27\n",
       "4         2023-02-27\n",
       "             ...    \n",
       "1972600   2012-07-01\n",
       "1972601   2012-07-01\n",
       "1972602   2012-07-01\n",
       "1972603   2012-07-01\n",
       "1972604   2012-07-01\n",
       "Name: CRASH DATE, Length: 1972605, dtype: datetime64[ns]"
      ]
     },
     "execution_count": 8,
     "metadata": {},
     "output_type": "execute_result"
    }
   ],
   "source": [
    "df['CRASH DATE']"
   ]
  },
  {
   "cell_type": "markdown",
   "id": "332b5a71-1f83-49e0-b9c9-59599572fdd7",
   "metadata": {},
   "source": [
    "## Filtering data 2016 onwards "
   ]
  },
  {
   "cell_type": "code",
   "execution_count": 9,
   "id": "a53c6d2a-610f-40b4-b43f-9bc8f70db97a",
   "metadata": {
    "tags": []
   },
   "outputs": [],
   "source": [
    "filtered_df = df.loc[(df['CRASH DATE'] > '2015-12-31')]"
   ]
  },
  {
   "cell_type": "code",
   "execution_count": 10,
   "id": "8e6c6b3f-e5c4-4e09-9b95-f2e8407c8049",
   "metadata": {
    "tags": []
   },
   "outputs": [
    {
     "data": {
      "text/html": [
       "<div>\n",
       "<style scoped>\n",
       "    .dataframe tbody tr th:only-of-type {\n",
       "        vertical-align: middle;\n",
       "    }\n",
       "\n",
       "    .dataframe tbody tr th {\n",
       "        vertical-align: top;\n",
       "    }\n",
       "\n",
       "    .dataframe thead th {\n",
       "        text-align: right;\n",
       "    }\n",
       "</style>\n",
       "<table border=\"1\" class=\"dataframe\">\n",
       "  <thead>\n",
       "    <tr style=\"text-align: right;\">\n",
       "      <th></th>\n",
       "      <th>CRASH DATE</th>\n",
       "      <th>CRASH TIME</th>\n",
       "      <th>BOROUGH</th>\n",
       "      <th>ZIP CODE</th>\n",
       "      <th>LATITUDE</th>\n",
       "      <th>LONGITUDE</th>\n",
       "      <th>LOCATION</th>\n",
       "      <th>ON STREET NAME</th>\n",
       "      <th>CROSS STREET NAME</th>\n",
       "      <th>OFF STREET NAME</th>\n",
       "      <th>...</th>\n",
       "      <th>CONTRIBUTING FACTOR VEHICLE 2</th>\n",
       "      <th>CONTRIBUTING FACTOR VEHICLE 3</th>\n",
       "      <th>CONTRIBUTING FACTOR VEHICLE 4</th>\n",
       "      <th>CONTRIBUTING FACTOR VEHICLE 5</th>\n",
       "      <th>COLLISION_ID</th>\n",
       "      <th>VEHICLE TYPE CODE 1</th>\n",
       "      <th>VEHICLE TYPE CODE 2</th>\n",
       "      <th>VEHICLE TYPE CODE 3</th>\n",
       "      <th>VEHICLE TYPE CODE 4</th>\n",
       "      <th>VEHICLE TYPE CODE 5</th>\n",
       "    </tr>\n",
       "  </thead>\n",
       "  <tbody>\n",
       "    <tr>\n",
       "      <th>0</th>\n",
       "      <td>2023-02-27</td>\n",
       "      <td>8:51</td>\n",
       "      <td>NaN</td>\n",
       "      <td>NaN</td>\n",
       "      <td>40.706630</td>\n",
       "      <td>-73.806595</td>\n",
       "      <td>(40.70663, -73.806595)</td>\n",
       "      <td>HILLSIDE AVENUE</td>\n",
       "      <td>NaN</td>\n",
       "      <td>NaN</td>\n",
       "      <td>...</td>\n",
       "      <td>Unspecified</td>\n",
       "      <td>NaN</td>\n",
       "      <td>NaN</td>\n",
       "      <td>NaN</td>\n",
       "      <td>4608757</td>\n",
       "      <td>Sedan</td>\n",
       "      <td>Station Wagon/Sport Utility Vehicle</td>\n",
       "      <td>NaN</td>\n",
       "      <td>NaN</td>\n",
       "      <td>NaN</td>\n",
       "    </tr>\n",
       "    <tr>\n",
       "      <th>1</th>\n",
       "      <td>2023-02-27</td>\n",
       "      <td>17:30</td>\n",
       "      <td>BROOKLYN</td>\n",
       "      <td>11230.0</td>\n",
       "      <td>40.612550</td>\n",
       "      <td>-73.962870</td>\n",
       "      <td>(40.61255, -73.96287)</td>\n",
       "      <td>CONEY ISLAND AVENUE</td>\n",
       "      <td>AVENUE O</td>\n",
       "      <td>NaN</td>\n",
       "      <td>...</td>\n",
       "      <td>NaN</td>\n",
       "      <td>NaN</td>\n",
       "      <td>NaN</td>\n",
       "      <td>NaN</td>\n",
       "      <td>4608924</td>\n",
       "      <td>NaN</td>\n",
       "      <td>NaN</td>\n",
       "      <td>NaN</td>\n",
       "      <td>NaN</td>\n",
       "      <td>NaN</td>\n",
       "    </tr>\n",
       "    <tr>\n",
       "      <th>2</th>\n",
       "      <td>2023-02-27</td>\n",
       "      <td>19:40</td>\n",
       "      <td>BRONX</td>\n",
       "      <td>10466.0</td>\n",
       "      <td>40.899250</td>\n",
       "      <td>-73.858185</td>\n",
       "      <td>(40.89925, -73.858185)</td>\n",
       "      <td>NaN</td>\n",
       "      <td>NaN</td>\n",
       "      <td>4380      BRONX BOULEVARD</td>\n",
       "      <td>...</td>\n",
       "      <td>NaN</td>\n",
       "      <td>NaN</td>\n",
       "      <td>NaN</td>\n",
       "      <td>NaN</td>\n",
       "      <td>4608831</td>\n",
       "      <td>Station Wagon/Sport Utility Vehicle</td>\n",
       "      <td>NaN</td>\n",
       "      <td>NaN</td>\n",
       "      <td>NaN</td>\n",
       "      <td>NaN</td>\n",
       "    </tr>\n",
       "    <tr>\n",
       "      <th>3</th>\n",
       "      <td>2023-02-27</td>\n",
       "      <td>1:28</td>\n",
       "      <td>NaN</td>\n",
       "      <td>NaN</td>\n",
       "      <td>40.760155</td>\n",
       "      <td>-73.998800</td>\n",
       "      <td>(40.760155, -73.9988)</td>\n",
       "      <td>WEST 41 STREET</td>\n",
       "      <td>NaN</td>\n",
       "      <td>NaN</td>\n",
       "      <td>...</td>\n",
       "      <td>Traffic Control Disregarded</td>\n",
       "      <td>NaN</td>\n",
       "      <td>NaN</td>\n",
       "      <td>NaN</td>\n",
       "      <td>4608898</td>\n",
       "      <td>Sedan</td>\n",
       "      <td>Bus</td>\n",
       "      <td>NaN</td>\n",
       "      <td>NaN</td>\n",
       "      <td>NaN</td>\n",
       "    </tr>\n",
       "    <tr>\n",
       "      <th>4</th>\n",
       "      <td>2023-02-27</td>\n",
       "      <td>20:15</td>\n",
       "      <td>BRONX</td>\n",
       "      <td>10469.0</td>\n",
       "      <td>40.879110</td>\n",
       "      <td>-73.843250</td>\n",
       "      <td>(40.87911, -73.84325)</td>\n",
       "      <td>BOSTON ROAD</td>\n",
       "      <td>EAST 222 STREET</td>\n",
       "      <td>NaN</td>\n",
       "      <td>...</td>\n",
       "      <td>Unspecified</td>\n",
       "      <td>NaN</td>\n",
       "      <td>NaN</td>\n",
       "      <td>NaN</td>\n",
       "      <td>4608832</td>\n",
       "      <td>Sedan</td>\n",
       "      <td>Sedan</td>\n",
       "      <td>NaN</td>\n",
       "      <td>NaN</td>\n",
       "      <td>NaN</td>\n",
       "    </tr>\n",
       "  </tbody>\n",
       "</table>\n",
       "<p>5 rows × 29 columns</p>\n",
       "</div>"
      ],
      "text/plain": [
       "  CRASH DATE CRASH TIME   BOROUGH ZIP CODE   LATITUDE  LONGITUDE  \\\n",
       "0 2023-02-27       8:51       NaN      NaN  40.706630 -73.806595   \n",
       "1 2023-02-27      17:30  BROOKLYN  11230.0  40.612550 -73.962870   \n",
       "2 2023-02-27      19:40     BRONX  10466.0  40.899250 -73.858185   \n",
       "3 2023-02-27       1:28       NaN      NaN  40.760155 -73.998800   \n",
       "4 2023-02-27      20:15     BRONX  10469.0  40.879110 -73.843250   \n",
       "\n",
       "                 LOCATION       ON STREET NAME CROSS STREET NAME  \\\n",
       "0  (40.70663, -73.806595)      HILLSIDE AVENUE               NaN   \n",
       "1   (40.61255, -73.96287)  CONEY ISLAND AVENUE          AVENUE O   \n",
       "2  (40.89925, -73.858185)                  NaN               NaN   \n",
       "3   (40.760155, -73.9988)       WEST 41 STREET               NaN   \n",
       "4   (40.87911, -73.84325)          BOSTON ROAD   EAST 222 STREET   \n",
       "\n",
       "             OFF STREET NAME  ...  CONTRIBUTING FACTOR VEHICLE 2  \\\n",
       "0                        NaN  ...                    Unspecified   \n",
       "1                        NaN  ...                            NaN   \n",
       "2  4380      BRONX BOULEVARD  ...                            NaN   \n",
       "3                        NaN  ...    Traffic Control Disregarded   \n",
       "4                        NaN  ...                    Unspecified   \n",
       "\n",
       "   CONTRIBUTING FACTOR VEHICLE 3  CONTRIBUTING FACTOR VEHICLE 4  \\\n",
       "0                            NaN                            NaN   \n",
       "1                            NaN                            NaN   \n",
       "2                            NaN                            NaN   \n",
       "3                            NaN                            NaN   \n",
       "4                            NaN                            NaN   \n",
       "\n",
       "   CONTRIBUTING FACTOR VEHICLE 5  COLLISION_ID  \\\n",
       "0                            NaN       4608757   \n",
       "1                            NaN       4608924   \n",
       "2                            NaN       4608831   \n",
       "3                            NaN       4608898   \n",
       "4                            NaN       4608832   \n",
       "\n",
       "                   VEHICLE TYPE CODE 1                  VEHICLE TYPE CODE 2  \\\n",
       "0                                Sedan  Station Wagon/Sport Utility Vehicle   \n",
       "1                                  NaN                                  NaN   \n",
       "2  Station Wagon/Sport Utility Vehicle                                  NaN   \n",
       "3                                Sedan                                  Bus   \n",
       "4                                Sedan                                Sedan   \n",
       "\n",
       "   VEHICLE TYPE CODE 3 VEHICLE TYPE CODE 4 VEHICLE TYPE CODE 5  \n",
       "0                  NaN                 NaN                 NaN  \n",
       "1                  NaN                 NaN                 NaN  \n",
       "2                  NaN                 NaN                 NaN  \n",
       "3                  NaN                 NaN                 NaN  \n",
       "4                  NaN                 NaN                 NaN  \n",
       "\n",
       "[5 rows x 29 columns]"
      ]
     },
     "execution_count": 10,
     "metadata": {},
     "output_type": "execute_result"
    }
   ],
   "source": [
    "filtered_df.head()"
   ]
  },
  {
   "cell_type": "code",
   "execution_count": 11,
   "id": "f84c1e78-9f6e-48bc-91c7-9b2ae2a7ce2f",
   "metadata": {
    "tags": []
   },
   "outputs": [
    {
     "data": {
      "text/html": [
       "<div>\n",
       "<style scoped>\n",
       "    .dataframe tbody tr th:only-of-type {\n",
       "        vertical-align: middle;\n",
       "    }\n",
       "\n",
       "    .dataframe tbody tr th {\n",
       "        vertical-align: top;\n",
       "    }\n",
       "\n",
       "    .dataframe thead th {\n",
       "        text-align: right;\n",
       "    }\n",
       "</style>\n",
       "<table border=\"1\" class=\"dataframe\">\n",
       "  <thead>\n",
       "    <tr style=\"text-align: right;\">\n",
       "      <th></th>\n",
       "      <th>CRASH DATE</th>\n",
       "      <th>CRASH TIME</th>\n",
       "      <th>BOROUGH</th>\n",
       "      <th>ZIP CODE</th>\n",
       "      <th>LATITUDE</th>\n",
       "      <th>LONGITUDE</th>\n",
       "      <th>LOCATION</th>\n",
       "      <th>ON STREET NAME</th>\n",
       "      <th>CROSS STREET NAME</th>\n",
       "      <th>OFF STREET NAME</th>\n",
       "      <th>...</th>\n",
       "      <th>CONTRIBUTING FACTOR VEHICLE 2</th>\n",
       "      <th>CONTRIBUTING FACTOR VEHICLE 3</th>\n",
       "      <th>CONTRIBUTING FACTOR VEHICLE 4</th>\n",
       "      <th>CONTRIBUTING FACTOR VEHICLE 5</th>\n",
       "      <th>COLLISION_ID</th>\n",
       "      <th>VEHICLE TYPE CODE 1</th>\n",
       "      <th>VEHICLE TYPE CODE 2</th>\n",
       "      <th>VEHICLE TYPE CODE 3</th>\n",
       "      <th>VEHICLE TYPE CODE 4</th>\n",
       "      <th>VEHICLE TYPE CODE 5</th>\n",
       "    </tr>\n",
       "  </thead>\n",
       "  <tbody>\n",
       "    <tr>\n",
       "      <th>1244594</th>\n",
       "      <td>2016-01-01</td>\n",
       "      <td>22:20</td>\n",
       "      <td>QUEENS</td>\n",
       "      <td>11368.0</td>\n",
       "      <td>40.745266</td>\n",
       "      <td>-73.855951</td>\n",
       "      <td>(40.7452661, -73.8559506)</td>\n",
       "      <td>49 AVENUE</td>\n",
       "      <td>108 STREET</td>\n",
       "      <td>NaN</td>\n",
       "      <td>...</td>\n",
       "      <td>Unspecified</td>\n",
       "      <td>NaN</td>\n",
       "      <td>NaN</td>\n",
       "      <td>NaN</td>\n",
       "      <td>3363969</td>\n",
       "      <td>PASSENGER VEHICLE</td>\n",
       "      <td>PASSENGER VEHICLE</td>\n",
       "      <td>NaN</td>\n",
       "      <td>NaN</td>\n",
       "      <td>NaN</td>\n",
       "    </tr>\n",
       "    <tr>\n",
       "      <th>1244595</th>\n",
       "      <td>2016-01-01</td>\n",
       "      <td>2:50</td>\n",
       "      <td>QUEENS</td>\n",
       "      <td>11427.0</td>\n",
       "      <td>40.726951</td>\n",
       "      <td>-73.748940</td>\n",
       "      <td>(40.7269507, -73.7489396)</td>\n",
       "      <td>89 AVENUE</td>\n",
       "      <td>215 STREET</td>\n",
       "      <td>NaN</td>\n",
       "      <td>...</td>\n",
       "      <td>Unspecified</td>\n",
       "      <td>NaN</td>\n",
       "      <td>NaN</td>\n",
       "      <td>NaN</td>\n",
       "      <td>3363917</td>\n",
       "      <td>PASSENGER VEHICLE</td>\n",
       "      <td>UNKNOWN</td>\n",
       "      <td>NaN</td>\n",
       "      <td>NaN</td>\n",
       "      <td>NaN</td>\n",
       "    </tr>\n",
       "    <tr>\n",
       "      <th>1244596</th>\n",
       "      <td>2016-01-01</td>\n",
       "      <td>20:20</td>\n",
       "      <td>MANHATTAN</td>\n",
       "      <td>10012.0</td>\n",
       "      <td>40.723022</td>\n",
       "      <td>-73.998813</td>\n",
       "      <td>(40.7230221, -73.9988131)</td>\n",
       "      <td>BROADWAY</td>\n",
       "      <td>SPRING STREET</td>\n",
       "      <td>NaN</td>\n",
       "      <td>...</td>\n",
       "      <td>NaN</td>\n",
       "      <td>NaN</td>\n",
       "      <td>NaN</td>\n",
       "      <td>NaN</td>\n",
       "      <td>3363602</td>\n",
       "      <td>BUS</td>\n",
       "      <td>NaN</td>\n",
       "      <td>NaN</td>\n",
       "      <td>NaN</td>\n",
       "      <td>NaN</td>\n",
       "    </tr>\n",
       "    <tr>\n",
       "      <th>1244597</th>\n",
       "      <td>2016-01-01</td>\n",
       "      <td>23:55</td>\n",
       "      <td>BROOKLYN</td>\n",
       "      <td>11201.0</td>\n",
       "      <td>40.692233</td>\n",
       "      <td>-73.987300</td>\n",
       "      <td>(40.6922334, -73.9872996)</td>\n",
       "      <td>JAY STREET</td>\n",
       "      <td>WILLOUGHBY STREET</td>\n",
       "      <td>NaN</td>\n",
       "      <td>...</td>\n",
       "      <td>Unspecified</td>\n",
       "      <td>NaN</td>\n",
       "      <td>NaN</td>\n",
       "      <td>NaN</td>\n",
       "      <td>3363854</td>\n",
       "      <td>SPORT UTILITY / STATION WAGON</td>\n",
       "      <td>SPORT UTILITY / STATION WAGON</td>\n",
       "      <td>NaN</td>\n",
       "      <td>NaN</td>\n",
       "      <td>NaN</td>\n",
       "    </tr>\n",
       "    <tr>\n",
       "      <th>1244598</th>\n",
       "      <td>2016-01-01</td>\n",
       "      <td>2:33</td>\n",
       "      <td>BROOKLYN</td>\n",
       "      <td>11210.0</td>\n",
       "      <td>40.629914</td>\n",
       "      <td>-73.937739</td>\n",
       "      <td>(40.6299135, -73.9377387)</td>\n",
       "      <td>EAST 40 STREET</td>\n",
       "      <td>AVENUE I</td>\n",
       "      <td>NaN</td>\n",
       "      <td>...</td>\n",
       "      <td>Other Vehicular</td>\n",
       "      <td>NaN</td>\n",
       "      <td>NaN</td>\n",
       "      <td>NaN</td>\n",
       "      <td>3363485</td>\n",
       "      <td>PASSENGER VEHICLE</td>\n",
       "      <td>PASSENGER VEHICLE</td>\n",
       "      <td>NaN</td>\n",
       "      <td>NaN</td>\n",
       "      <td>NaN</td>\n",
       "    </tr>\n",
       "  </tbody>\n",
       "</table>\n",
       "<p>5 rows × 29 columns</p>\n",
       "</div>"
      ],
      "text/plain": [
       "        CRASH DATE CRASH TIME    BOROUGH ZIP CODE   LATITUDE  LONGITUDE  \\\n",
       "1244594 2016-01-01      22:20     QUEENS  11368.0  40.745266 -73.855951   \n",
       "1244595 2016-01-01       2:50     QUEENS  11427.0  40.726951 -73.748940   \n",
       "1244596 2016-01-01      20:20  MANHATTAN  10012.0  40.723022 -73.998813   \n",
       "1244597 2016-01-01      23:55   BROOKLYN  11201.0  40.692233 -73.987300   \n",
       "1244598 2016-01-01       2:33   BROOKLYN  11210.0  40.629914 -73.937739   \n",
       "\n",
       "                          LOCATION                    ON STREET NAME  \\\n",
       "1244594  (40.7452661, -73.8559506)  49 AVENUE                          \n",
       "1244595  (40.7269507, -73.7489396)  89 AVENUE                          \n",
       "1244596  (40.7230221, -73.9988131)  BROADWAY                           \n",
       "1244597  (40.6922334, -73.9872996)  JAY STREET                         \n",
       "1244598  (40.6299135, -73.9377387)  EAST 40 STREET                     \n",
       "\n",
       "                        CROSS STREET NAME OFF STREET NAME  ...  \\\n",
       "1244594  108 STREET                                   NaN  ...   \n",
       "1244595  215 STREET                                   NaN  ...   \n",
       "1244596  SPRING STREET                                NaN  ...   \n",
       "1244597  WILLOUGHBY STREET                            NaN  ...   \n",
       "1244598  AVENUE I                                     NaN  ...   \n",
       "\n",
       "         CONTRIBUTING FACTOR VEHICLE 2  CONTRIBUTING FACTOR VEHICLE 3  \\\n",
       "1244594                    Unspecified                            NaN   \n",
       "1244595                    Unspecified                            NaN   \n",
       "1244596                            NaN                            NaN   \n",
       "1244597                    Unspecified                            NaN   \n",
       "1244598                Other Vehicular                            NaN   \n",
       "\n",
       "         CONTRIBUTING FACTOR VEHICLE 4  CONTRIBUTING FACTOR VEHICLE 5  \\\n",
       "1244594                            NaN                            NaN   \n",
       "1244595                            NaN                            NaN   \n",
       "1244596                            NaN                            NaN   \n",
       "1244597                            NaN                            NaN   \n",
       "1244598                            NaN                            NaN   \n",
       "\n",
       "         COLLISION_ID            VEHICLE TYPE CODE 1  \\\n",
       "1244594       3363969              PASSENGER VEHICLE   \n",
       "1244595       3363917              PASSENGER VEHICLE   \n",
       "1244596       3363602                            BUS   \n",
       "1244597       3363854  SPORT UTILITY / STATION WAGON   \n",
       "1244598       3363485              PASSENGER VEHICLE   \n",
       "\n",
       "                   VEHICLE TYPE CODE 2  VEHICLE TYPE CODE 3  \\\n",
       "1244594              PASSENGER VEHICLE                  NaN   \n",
       "1244595                        UNKNOWN                  NaN   \n",
       "1244596                            NaN                  NaN   \n",
       "1244597  SPORT UTILITY / STATION WAGON                  NaN   \n",
       "1244598              PASSENGER VEHICLE                  NaN   \n",
       "\n",
       "        VEHICLE TYPE CODE 4 VEHICLE TYPE CODE 5  \n",
       "1244594                 NaN                 NaN  \n",
       "1244595                 NaN                 NaN  \n",
       "1244596                 NaN                 NaN  \n",
       "1244597                 NaN                 NaN  \n",
       "1244598                 NaN                 NaN  \n",
       "\n",
       "[5 rows x 29 columns]"
      ]
     },
     "execution_count": 11,
     "metadata": {},
     "output_type": "execute_result"
    }
   ],
   "source": [
    "filtered_df.tail()"
   ]
  },
  {
   "cell_type": "code",
   "execution_count": 12,
   "id": "24c2e88b-6eb6-42ba-a5fa-b350fa88b0c6",
   "metadata": {
    "tags": []
   },
   "outputs": [],
   "source": [
    "filtered_df.to_csv('file2.csv')"
   ]
  },
  {
   "cell_type": "code",
   "execution_count": 13,
   "id": "d0bdb85b-e9ae-44fd-a960-2c88edb22e52",
   "metadata": {
    "tags": []
   },
   "outputs": [
    {
     "data": {
      "text/plain": [
       "(1244599, 29)"
      ]
     },
     "execution_count": 13,
     "metadata": {},
     "output_type": "execute_result"
    }
   ],
   "source": [
    "filtered_df.shape"
   ]
  },
  {
   "cell_type": "code",
   "execution_count": 14,
   "id": "864e2eff-2233-4761-a5e1-f79dcd9781e1",
   "metadata": {
    "tags": []
   },
   "outputs": [
    {
     "data": {
      "text/plain": [
       "Index(['CRASH DATE', 'CRASH TIME', 'BOROUGH', 'ZIP CODE', 'LATITUDE',\n",
       "       'LONGITUDE', 'LOCATION', 'ON STREET NAME', 'CROSS STREET NAME',\n",
       "       'OFF STREET NAME', 'NUMBER OF PERSONS INJURED',\n",
       "       'NUMBER OF PERSONS KILLED', 'NUMBER OF PEDESTRIANS INJURED',\n",
       "       'NUMBER OF PEDESTRIANS KILLED', 'NUMBER OF CYCLIST INJURED',\n",
       "       'NUMBER OF CYCLIST KILLED', 'NUMBER OF MOTORIST INJURED',\n",
       "       'NUMBER OF MOTORIST KILLED', 'CONTRIBUTING FACTOR VEHICLE 1',\n",
       "       'CONTRIBUTING FACTOR VEHICLE 2', 'CONTRIBUTING FACTOR VEHICLE 3',\n",
       "       'CONTRIBUTING FACTOR VEHICLE 4', 'CONTRIBUTING FACTOR VEHICLE 5',\n",
       "       'COLLISION_ID', 'VEHICLE TYPE CODE 1', 'VEHICLE TYPE CODE 2',\n",
       "       'VEHICLE TYPE CODE 3', 'VEHICLE TYPE CODE 4', 'VEHICLE TYPE CODE 5'],\n",
       "      dtype='object')"
      ]
     },
     "execution_count": 14,
     "metadata": {},
     "output_type": "execute_result"
    }
   ],
   "source": [
    "df.columns"
   ]
  },
  {
   "cell_type": "code",
   "execution_count": 15,
   "id": "e7b6eb37-a16f-42a0-9aed-02700d7b9743",
   "metadata": {
    "tags": []
   },
   "outputs": [
    {
     "data": {
      "text/plain": [
       "Index(['CRASH DATE', 'CRASH TIME', 'BOROUGH', 'ZIP CODE', 'LATITUDE',\n",
       "       'LONGITUDE', 'LOCATION', 'ON STREET NAME', 'CROSS STREET NAME',\n",
       "       'OFF STREET NAME', 'NUMBER OF PERSONS INJURED',\n",
       "       'NUMBER OF PERSONS KILLED', 'NUMBER OF PEDESTRIANS INJURED',\n",
       "       'NUMBER OF PEDESTRIANS KILLED', 'NUMBER OF CYCLIST INJURED',\n",
       "       'NUMBER OF CYCLIST KILLED', 'NUMBER OF MOTORIST INJURED',\n",
       "       'NUMBER OF MOTORIST KILLED', 'CONTRIBUTING FACTOR VEHICLE 1',\n",
       "       'CONTRIBUTING FACTOR VEHICLE 2', 'CONTRIBUTING FACTOR VEHICLE 3',\n",
       "       'CONTRIBUTING FACTOR VEHICLE 4', 'CONTRIBUTING FACTOR VEHICLE 5',\n",
       "       'COLLISION_ID', 'VEHICLE TYPE CODE 1', 'VEHICLE TYPE CODE 2',\n",
       "       'VEHICLE TYPE CODE 3', 'VEHICLE TYPE CODE 4', 'VEHICLE TYPE CODE 5'],\n",
       "      dtype='object')"
      ]
     },
     "execution_count": 15,
     "metadata": {},
     "output_type": "execute_result"
    }
   ],
   "source": [
    "df.columns\n"
   ]
  },
  {
   "cell_type": "code",
   "execution_count": 16,
   "id": "31f14cf3-73e3-4ee7-bb9d-24cf2e49c874",
   "metadata": {
    "tags": []
   },
   "outputs": [
    {
     "data": {
      "text/plain": [
       "CRASH DATE                       datetime64[ns]\n",
       "CRASH TIME                               object\n",
       "BOROUGH                                  object\n",
       "ZIP CODE                                 object\n",
       "LATITUDE                                float64\n",
       "LONGITUDE                               float64\n",
       "LOCATION                                 object\n",
       "ON STREET NAME                           object\n",
       "CROSS STREET NAME                        object\n",
       "OFF STREET NAME                          object\n",
       "NUMBER OF PERSONS INJURED               float64\n",
       "NUMBER OF PERSONS KILLED                float64\n",
       "NUMBER OF PEDESTRIANS INJURED             int64\n",
       "NUMBER OF PEDESTRIANS KILLED              int64\n",
       "NUMBER OF CYCLIST INJURED                 int64\n",
       "NUMBER OF CYCLIST KILLED                  int64\n",
       "NUMBER OF MOTORIST INJURED                int64\n",
       "NUMBER OF MOTORIST KILLED                 int64\n",
       "CONTRIBUTING FACTOR VEHICLE 1            object\n",
       "CONTRIBUTING FACTOR VEHICLE 2            object\n",
       "CONTRIBUTING FACTOR VEHICLE 3            object\n",
       "CONTRIBUTING FACTOR VEHICLE 4            object\n",
       "CONTRIBUTING FACTOR VEHICLE 5            object\n",
       "COLLISION_ID                              int64\n",
       "VEHICLE TYPE CODE 1                      object\n",
       "VEHICLE TYPE CODE 2                      object\n",
       "VEHICLE TYPE CODE 3                      object\n",
       "VEHICLE TYPE CODE 4                      object\n",
       "VEHICLE TYPE CODE 5                      object\n",
       "dtype: object"
      ]
     },
     "execution_count": 16,
     "metadata": {},
     "output_type": "execute_result"
    }
   ],
   "source": [
    "df.dtypes"
   ]
  },
  {
   "cell_type": "code",
   "execution_count": 17,
   "id": "b8afecd5-66a8-4111-a0bf-cc74d9b10cc8",
   "metadata": {
    "tags": []
   },
   "outputs": [],
   "source": [
    "df.rename(columns = {'CRASH DATE':'CRASH_DATE','CRASH TIME':'CRASH_TIME'}, inplace = True)"
   ]
  },
  {
   "cell_type": "code",
   "execution_count": null,
   "id": "7fe0e478-419b-4f53-874a-a1c41efd929a",
   "metadata": {},
   "outputs": [],
   "source": []
  },
  {
   "cell_type": "code",
   "execution_count": 18,
   "id": "eb6df1f8-ec32-438d-b93a-5353eab99d51",
   "metadata": {
    "tags": []
   },
   "outputs": [
    {
     "data": {
      "text/plain": [
       "0    58\n",
       "1    58\n",
       "2    58\n",
       "3    58\n",
       "4    58\n",
       "Name: CRASH_DATE, dtype: int64"
      ]
     },
     "execution_count": 18,
     "metadata": {},
     "output_type": "execute_result"
    }
   ],
   "source": [
    "df['CRASH_DATE'].dt.dayofyear.head()"
   ]
  },
  {
   "cell_type": "markdown",
   "id": "30c5094d-bcb1-4667-b302-3bf2fd014710",
   "metadata": {},
   "source": [
    "## Creating column for day name "
   ]
  },
  {
   "cell_type": "code",
   "execution_count": 19,
   "id": "59fa9fae-bf21-42d3-96ce-4cdb0dba440f",
   "metadata": {
    "tags": []
   },
   "outputs": [],
   "source": [
    "df['Day_Name']=df['CRASH_DATE'].dt.day_name()\n"
   ]
  },
  {
   "cell_type": "code",
   "execution_count": 20,
   "id": "bb049115-7972-45a7-8ba1-9079237a2705",
   "metadata": {
    "tags": []
   },
   "outputs": [
    {
     "data": {
      "text/plain": [
       "0          Monday\n",
       "1          Monday\n",
       "2          Monday\n",
       "3          Monday\n",
       "4          Monday\n",
       "            ...  \n",
       "1972600    Sunday\n",
       "1972601    Sunday\n",
       "1972602    Sunday\n",
       "1972603    Sunday\n",
       "1972604    Sunday\n",
       "Name: Day_Name, Length: 1972605, dtype: object"
      ]
     },
     "execution_count": 20,
     "metadata": {},
     "output_type": "execute_result"
    }
   ],
   "source": [
    "df['Day_Name']"
   ]
  },
  {
   "cell_type": "code",
   "execution_count": 21,
   "id": "122113d8-4c1a-486f-b5f7-1181377c7f30",
   "metadata": {
    "tags": []
   },
   "outputs": [
    {
     "data": {
      "text/plain": [
       "Index(['CRASH_DATE', 'CRASH_TIME', 'BOROUGH', 'ZIP CODE', 'LATITUDE',\n",
       "       'LONGITUDE', 'LOCATION', 'ON STREET NAME', 'CROSS STREET NAME',\n",
       "       'OFF STREET NAME', 'NUMBER OF PERSONS INJURED',\n",
       "       'NUMBER OF PERSONS KILLED', 'NUMBER OF PEDESTRIANS INJURED',\n",
       "       'NUMBER OF PEDESTRIANS KILLED', 'NUMBER OF CYCLIST INJURED',\n",
       "       'NUMBER OF CYCLIST KILLED', 'NUMBER OF MOTORIST INJURED',\n",
       "       'NUMBER OF MOTORIST KILLED', 'CONTRIBUTING FACTOR VEHICLE 1',\n",
       "       'CONTRIBUTING FACTOR VEHICLE 2', 'CONTRIBUTING FACTOR VEHICLE 3',\n",
       "       'CONTRIBUTING FACTOR VEHICLE 4', 'CONTRIBUTING FACTOR VEHICLE 5',\n",
       "       'COLLISION_ID', 'VEHICLE TYPE CODE 1', 'VEHICLE TYPE CODE 2',\n",
       "       'VEHICLE TYPE CODE 3', 'VEHICLE TYPE CODE 4', 'VEHICLE TYPE CODE 5',\n",
       "       'Day_Name'],\n",
       "      dtype='object')"
      ]
     },
     "execution_count": 21,
     "metadata": {},
     "output_type": "execute_result"
    }
   ],
   "source": [
    "df.columns"
   ]
  },
  {
   "cell_type": "code",
   "execution_count": 22,
   "id": "2cc1d13f-277b-44da-9241-bb66d1d6fb54",
   "metadata": {
    "tags": []
   },
   "outputs": [
    {
     "data": {
      "text/plain": [
       "0           8:51\n",
       "1          17:30\n",
       "2          19:40\n",
       "3           1:28\n",
       "4          20:15\n",
       "           ...  \n",
       "1972600    16:28\n",
       "1972601    15:35\n",
       "1972602    22:13\n",
       "1972603    13:32\n",
       "1972604     4:18\n",
       "Name: CRASH_TIME, Length: 1972605, dtype: object"
      ]
     },
     "execution_count": 22,
     "metadata": {},
     "output_type": "execute_result"
    }
   ],
   "source": [
    "df['CRASH_TIME']"
   ]
  },
  {
   "cell_type": "markdown",
   "id": "a4864ea0-875b-4b97-b7ec-d8e4f4c5abd6",
   "metadata": {},
   "source": [
    "## Stripping timestamp"
   ]
  },
  {
   "cell_type": "code",
   "execution_count": 23,
   "id": "8ade8bad-f26f-475a-8fff-c8daac687396",
   "metadata": {
    "tags": []
   },
   "outputs": [],
   "source": [
    "df['CRASH_TIME'] = df['CRASH_TIME'].map(lambda x: str(x)[:-3])"
   ]
  },
  {
   "cell_type": "code",
   "execution_count": 24,
   "id": "30e68462-9105-4b6a-ad7d-dcfd9fb8eac6",
   "metadata": {
    "tags": []
   },
   "outputs": [
    {
     "data": {
      "text/plain": [
       "0           8\n",
       "1          17\n",
       "2          19\n",
       "3           1\n",
       "4          20\n",
       "           ..\n",
       "1972600    16\n",
       "1972601    15\n",
       "1972602    22\n",
       "1972603    13\n",
       "1972604     4\n",
       "Name: CRASH_TIME, Length: 1972605, dtype: object"
      ]
     },
     "execution_count": 24,
     "metadata": {},
     "output_type": "execute_result"
    }
   ],
   "source": [
    "df['CRASH_TIME']"
   ]
  },
  {
   "cell_type": "code",
   "execution_count": 25,
   "id": "b00d4a32-e8c9-4b74-ba8b-bba2ffe6370e",
   "metadata": {
    "tags": []
   },
   "outputs": [],
   "source": [
    "df['CRASH_TIME']=df['CRASH_TIME'] + '00'"
   ]
  },
  {
   "cell_type": "code",
   "execution_count": 26,
   "id": "6922fee2-8996-4301-9ca8-a788977acb24",
   "metadata": {
    "tags": []
   },
   "outputs": [
    {
     "data": {
      "text/html": [
       "<div>\n",
       "<style scoped>\n",
       "    .dataframe tbody tr th:only-of-type {\n",
       "        vertical-align: middle;\n",
       "    }\n",
       "\n",
       "    .dataframe tbody tr th {\n",
       "        vertical-align: top;\n",
       "    }\n",
       "\n",
       "    .dataframe thead th {\n",
       "        text-align: right;\n",
       "    }\n",
       "</style>\n",
       "<table border=\"1\" class=\"dataframe\">\n",
       "  <thead>\n",
       "    <tr style=\"text-align: right;\">\n",
       "      <th></th>\n",
       "      <th>Day_Name</th>\n",
       "      <th>CRASH_TIME</th>\n",
       "    </tr>\n",
       "  </thead>\n",
       "  <tbody>\n",
       "    <tr>\n",
       "      <th>0</th>\n",
       "      <td>Monday</td>\n",
       "      <td>800</td>\n",
       "    </tr>\n",
       "    <tr>\n",
       "      <th>1</th>\n",
       "      <td>Monday</td>\n",
       "      <td>1700</td>\n",
       "    </tr>\n",
       "    <tr>\n",
       "      <th>2</th>\n",
       "      <td>Monday</td>\n",
       "      <td>1900</td>\n",
       "    </tr>\n",
       "    <tr>\n",
       "      <th>3</th>\n",
       "      <td>Monday</td>\n",
       "      <td>100</td>\n",
       "    </tr>\n",
       "    <tr>\n",
       "      <th>4</th>\n",
       "      <td>Monday</td>\n",
       "      <td>2000</td>\n",
       "    </tr>\n",
       "    <tr>\n",
       "      <th>...</th>\n",
       "      <td>...</td>\n",
       "      <td>...</td>\n",
       "    </tr>\n",
       "    <tr>\n",
       "      <th>1972600</th>\n",
       "      <td>Sunday</td>\n",
       "      <td>1600</td>\n",
       "    </tr>\n",
       "    <tr>\n",
       "      <th>1972601</th>\n",
       "      <td>Sunday</td>\n",
       "      <td>1500</td>\n",
       "    </tr>\n",
       "    <tr>\n",
       "      <th>1972602</th>\n",
       "      <td>Sunday</td>\n",
       "      <td>2200</td>\n",
       "    </tr>\n",
       "    <tr>\n",
       "      <th>1972603</th>\n",
       "      <td>Sunday</td>\n",
       "      <td>1300</td>\n",
       "    </tr>\n",
       "    <tr>\n",
       "      <th>1972604</th>\n",
       "      <td>Sunday</td>\n",
       "      <td>400</td>\n",
       "    </tr>\n",
       "  </tbody>\n",
       "</table>\n",
       "<p>1972605 rows × 2 columns</p>\n",
       "</div>"
      ],
      "text/plain": [
       "        Day_Name CRASH_TIME\n",
       "0         Monday        800\n",
       "1         Monday       1700\n",
       "2         Monday       1900\n",
       "3         Monday        100\n",
       "4         Monday       2000\n",
       "...          ...        ...\n",
       "1972600   Sunday       1600\n",
       "1972601   Sunday       1500\n",
       "1972602   Sunday       2200\n",
       "1972603   Sunday       1300\n",
       "1972604   Sunday        400\n",
       "\n",
       "[1972605 rows x 2 columns]"
      ]
     },
     "execution_count": 26,
     "metadata": {},
     "output_type": "execute_result"
    }
   ],
   "source": [
    "df[['Day_Name','CRASH_TIME']]"
   ]
  },
  {
   "cell_type": "code",
   "execution_count": 27,
   "id": "1e5973ce-bc0e-485c-aaf0-7d6322bca152",
   "metadata": {
    "tags": []
   },
   "outputs": [],
   "source": [
    "DayTime_df=df[['Day_Name','CRASH_TIME']]"
   ]
  },
  {
   "cell_type": "code",
   "execution_count": 28,
   "id": "8ea395fd-612d-49a7-a259-3e9f81413796",
   "metadata": {
    "tags": []
   },
   "outputs": [
    {
     "name": "stdout",
     "output_type": "stream",
     "text": [
      "        Day_Name CRASH_TIME\n",
      "0         Monday        800\n",
      "1         Monday       1700\n",
      "2         Monday       1900\n",
      "3         Monday        100\n",
      "4         Monday       2000\n",
      "...          ...        ...\n",
      "1972600   Sunday       1600\n",
      "1972601   Sunday       1500\n",
      "1972602   Sunday       2200\n",
      "1972603   Sunday       1300\n",
      "1972604   Sunday        400\n",
      "\n",
      "[1972605 rows x 2 columns]\n"
     ]
    }
   ],
   "source": [
    "print(DayTime_df)"
   ]
  },
  {
   "cell_type": "code",
   "execution_count": 29,
   "id": "f083b882-fc01-48bc-8f4c-001120e3d0e1",
   "metadata": {
    "tags": []
   },
   "outputs": [],
   "source": [
    "DayTime_df=pd.DataFrame(DayTime_df)"
   ]
  },
  {
   "cell_type": "markdown",
   "id": "cd1a4dea-96ca-4ebe-af86-c86ee48f3a48",
   "metadata": {
    "tags": []
   },
   "source": [
    "## Finding no of Crashes each day of the week w.r.t. to time(24hr)"
   ]
  },
  {
   "cell_type": "code",
   "execution_count": 30,
   "id": "db09459b-7335-4c67-9291-1c2c26fcd844",
   "metadata": {
    "tags": []
   },
   "outputs": [
    {
     "data": {
      "text/plain": [
       "Day_Name   CRASH_TIME\n",
       "Friday     000            9066\n",
       "           100            4409\n",
       "           1000          15372\n",
       "           1100          16016\n",
       "           1200          17159\n",
       "                         ...  \n",
       "Wednesday  500            3189\n",
       "           600            6710\n",
       "           700           10269\n",
       "           800           18881\n",
       "           900           17222\n",
       "Length: 168, dtype: int64"
      ]
     },
     "execution_count": 30,
     "metadata": {},
     "output_type": "execute_result"
    }
   ],
   "source": [
    "DayTime_df.groupby(['Day_Name','CRASH_TIME']).size()"
   ]
  },
  {
   "cell_type": "code",
   "execution_count": 31,
   "id": "6faa3c55-a57d-4d77-b7b8-5422d178fcba",
   "metadata": {
    "tags": []
   },
   "outputs": [],
   "source": [
    "#df['CRASH_TIME'] = df['CRASH_TIME'].map(lambda x: x + \"00\")"
   ]
  },
  {
   "cell_type": "code",
   "execution_count": null,
   "id": "b87d446a-e445-4ce7-98b1-baf81a8f359d",
   "metadata": {
    "tags": []
   },
   "outputs": [],
   "source": []
  },
  {
   "cell_type": "code",
   "execution_count": 32,
   "id": "ce775889-1d3f-47d9-b801-ca0c7dbd9713",
   "metadata": {
    "tags": []
   },
   "outputs": [
    {
     "data": {
      "text/plain": [
       "array(['800', '1700', '1900', '100', '2000', '700', '1100', '1000',\n",
       "       '1500', '2200', '900', '2100', '1300', '1600', '2300', '1200',\n",
       "       '1400', '200', '1800', '000', '600', '500', '300', '400'],\n",
       "      dtype=object)"
      ]
     },
     "execution_count": 32,
     "metadata": {},
     "output_type": "execute_result"
    }
   ],
   "source": [
    "df.CRASH_TIME.unique()"
   ]
  },
  {
   "cell_type": "code",
   "execution_count": 33,
   "id": "8c1ed78c-3378-41b0-a9e1-01868372435a",
   "metadata": {
    "tags": []
   },
   "outputs": [
    {
     "data": {
      "text/html": [
       "<div>\n",
       "<style scoped>\n",
       "    .dataframe tbody tr th:only-of-type {\n",
       "        vertical-align: middle;\n",
       "    }\n",
       "\n",
       "    .dataframe tbody tr th {\n",
       "        vertical-align: top;\n",
       "    }\n",
       "\n",
       "    .dataframe thead th {\n",
       "        text-align: right;\n",
       "    }\n",
       "</style>\n",
       "<table border=\"1\" class=\"dataframe\">\n",
       "  <thead>\n",
       "    <tr style=\"text-align: right;\">\n",
       "      <th></th>\n",
       "      <th>Day_Name</th>\n",
       "      <th>CRASH_TIME</th>\n",
       "      <th>count</th>\n",
       "    </tr>\n",
       "  </thead>\n",
       "  <tbody>\n",
       "    <tr>\n",
       "      <th>0</th>\n",
       "      <td>Friday</td>\n",
       "      <td>000</td>\n",
       "      <td>9066</td>\n",
       "    </tr>\n",
       "    <tr>\n",
       "      <th>1</th>\n",
       "      <td>Friday</td>\n",
       "      <td>100</td>\n",
       "      <td>4409</td>\n",
       "    </tr>\n",
       "    <tr>\n",
       "      <th>2</th>\n",
       "      <td>Friday</td>\n",
       "      <td>1000</td>\n",
       "      <td>15372</td>\n",
       "    </tr>\n",
       "    <tr>\n",
       "      <th>3</th>\n",
       "      <td>Friday</td>\n",
       "      <td>1100</td>\n",
       "      <td>16016</td>\n",
       "    </tr>\n",
       "    <tr>\n",
       "      <th>4</th>\n",
       "      <td>Friday</td>\n",
       "      <td>1200</td>\n",
       "      <td>17159</td>\n",
       "    </tr>\n",
       "    <tr>\n",
       "      <th>...</th>\n",
       "      <td>...</td>\n",
       "      <td>...</td>\n",
       "      <td>...</td>\n",
       "    </tr>\n",
       "    <tr>\n",
       "      <th>163</th>\n",
       "      <td>Wednesday</td>\n",
       "      <td>500</td>\n",
       "      <td>3189</td>\n",
       "    </tr>\n",
       "    <tr>\n",
       "      <th>164</th>\n",
       "      <td>Wednesday</td>\n",
       "      <td>600</td>\n",
       "      <td>6710</td>\n",
       "    </tr>\n",
       "    <tr>\n",
       "      <th>165</th>\n",
       "      <td>Wednesday</td>\n",
       "      <td>700</td>\n",
       "      <td>10269</td>\n",
       "    </tr>\n",
       "    <tr>\n",
       "      <th>166</th>\n",
       "      <td>Wednesday</td>\n",
       "      <td>800</td>\n",
       "      <td>18881</td>\n",
       "    </tr>\n",
       "    <tr>\n",
       "      <th>167</th>\n",
       "      <td>Wednesday</td>\n",
       "      <td>900</td>\n",
       "      <td>17222</td>\n",
       "    </tr>\n",
       "  </tbody>\n",
       "</table>\n",
       "<p>168 rows × 3 columns</p>\n",
       "</div>"
      ],
      "text/plain": [
       "      Day_Name CRASH_TIME  count\n",
       "0       Friday        000   9066\n",
       "1       Friday        100   4409\n",
       "2       Friday       1000  15372\n",
       "3       Friday       1100  16016\n",
       "4       Friday       1200  17159\n",
       "..         ...        ...    ...\n",
       "163  Wednesday        500   3189\n",
       "164  Wednesday        600   6710\n",
       "165  Wednesday        700  10269\n",
       "166  Wednesday        800  18881\n",
       "167  Wednesday        900  17222\n",
       "\n",
       "[168 rows x 3 columns]"
      ]
     },
     "execution_count": 33,
     "metadata": {},
     "output_type": "execute_result"
    }
   ],
   "source": [
    "DayTime_df.groupby(['Day_Name','CRASH_TIME']).size().reset_index().rename(columns={0:'count'})"
   ]
  },
  {
   "cell_type": "code",
   "execution_count": 34,
   "id": "8dab4031-7f4b-4cd4-b9e8-dab86e7f5ed0",
   "metadata": {
    "tags": []
   },
   "outputs": [],
   "source": [
    "DayTimeCount=DayTime_df.groupby(['Day_Name','CRASH_TIME']).size().reset_index().rename(columns={0:'count'})"
   ]
  },
  {
   "cell_type": "code",
   "execution_count": 35,
   "id": "3229d8cc-1922-459a-a9d6-560864a71129",
   "metadata": {
    "tags": []
   },
   "outputs": [],
   "source": [
    "DayTimeCount_df=pd.DataFrame(DayTimeCount)"
   ]
  },
  {
   "cell_type": "code",
   "execution_count": 36,
   "id": "4ce7f18f-9f5e-45a3-80c2-a97ddcf0812b",
   "metadata": {
    "tags": []
   },
   "outputs": [],
   "source": [
    "DayTimeCount_df.to_csv(\"DayTimeCount.csv\")"
   ]
  },
  {
   "cell_type": "markdown",
   "id": "e448f942-ce4c-4f1a-bce2-ff15b2f3d058",
   "metadata": {},
   "source": [
    "## Distribution of crashes over area "
   ]
  },
  {
   "cell_type": "code",
   "execution_count": 37,
   "id": "7ff539d3-74c1-450f-9697-ca60c0fa60a4",
   "metadata": {
    "tags": []
   },
   "outputs": [
    {
     "data": {
      "text/plain": [
       "Index(['CRASH_DATE', 'CRASH_TIME', 'BOROUGH', 'ZIP CODE', 'LATITUDE',\n",
       "       'LONGITUDE', 'LOCATION', 'ON STREET NAME', 'CROSS STREET NAME',\n",
       "       'OFF STREET NAME', 'NUMBER OF PERSONS INJURED',\n",
       "       'NUMBER OF PERSONS KILLED', 'NUMBER OF PEDESTRIANS INJURED',\n",
       "       'NUMBER OF PEDESTRIANS KILLED', 'NUMBER OF CYCLIST INJURED',\n",
       "       'NUMBER OF CYCLIST KILLED', 'NUMBER OF MOTORIST INJURED',\n",
       "       'NUMBER OF MOTORIST KILLED', 'CONTRIBUTING FACTOR VEHICLE 1',\n",
       "       'CONTRIBUTING FACTOR VEHICLE 2', 'CONTRIBUTING FACTOR VEHICLE 3',\n",
       "       'CONTRIBUTING FACTOR VEHICLE 4', 'CONTRIBUTING FACTOR VEHICLE 5',\n",
       "       'COLLISION_ID', 'VEHICLE TYPE CODE 1', 'VEHICLE TYPE CODE 2',\n",
       "       'VEHICLE TYPE CODE 3', 'VEHICLE TYPE CODE 4', 'VEHICLE TYPE CODE 5',\n",
       "       'Day_Name'],\n",
       "      dtype='object')"
      ]
     },
     "execution_count": 37,
     "metadata": {},
     "output_type": "execute_result"
    }
   ],
   "source": [
    "df.columns"
   ]
  },
  {
   "cell_type": "code",
   "execution_count": 38,
   "id": "5df5c966-4a0a-4549-bd5b-487bfd23ef2a",
   "metadata": {
    "tags": []
   },
   "outputs": [
    {
     "data": {
      "text/plain": [
       "BROOKLYN         430209\n",
       "QUEENS           364264\n",
       "MANHATTAN        307657\n",
       "BRONX            200226\n",
       "STATEN ISLAND     57037\n",
       "Name: BOROUGH, dtype: int64"
      ]
     },
     "execution_count": 38,
     "metadata": {},
     "output_type": "execute_result"
    }
   ],
   "source": [
    "df.BOROUGH.value_counts()"
   ]
  },
  {
   "cell_type": "markdown",
   "id": "8343e9af-8a71-4372-bd96-76775ee6ab02",
   "metadata": {
    "tags": []
   },
   "source": [
    "## Distribution of crashes over Vehicles \n"
   ]
  },
  {
   "cell_type": "code",
   "execution_count": 39,
   "id": "14a9362f-975c-4b07-91e8-de4b65941c02",
   "metadata": {
    "tags": []
   },
   "outputs": [
    {
     "data": {
      "text/plain": [
       "array(['Sedan', nan, 'Station Wagon/Sport Utility Vehicle', ...,\n",
       "       'LARGE COM VEH(6 OR MORE TIRES)', 'scoo', 'PEDICAB'], dtype=object)"
      ]
     },
     "execution_count": 39,
     "metadata": {},
     "output_type": "execute_result"
    }
   ],
   "source": [
    "df['VEHICLE TYPE CODE 1'].unique()"
   ]
  },
  {
   "cell_type": "code",
   "execution_count": 40,
   "id": "7bddca07-03c9-47e4-ba5c-6ab63d6f8cb4",
   "metadata": {
    "tags": []
   },
   "outputs": [
    {
     "data": {
      "text/plain": [
       "array(['Station Wagon/Sport Utility Vehicle', nan, 'Bus', ..., 'BUS',\n",
       "       'LIVERY VEHICLE', 'LARGE COM VEH(6 OR MORE TIRES)'], dtype=object)"
      ]
     },
     "execution_count": 40,
     "metadata": {},
     "output_type": "execute_result"
    }
   ],
   "source": [
    "df['VEHICLE TYPE CODE 2'].unique()"
   ]
  },
  {
   "cell_type": "code",
   "execution_count": 41,
   "id": "e75cdb46-8432-4c7b-9ce7-da4c00180ac6",
   "metadata": {
    "tags": []
   },
   "outputs": [
    {
     "data": {
      "text/plain": [
       "array([nan, 'Sedan', 'Station Wagon/Sport Utility Vehicle', 'Box Truck',\n",
       "       'Ambulance', 'Pick-up Truck', 'Taxi', 'Tow Truck / Wrecker',\n",
       "       'Motorcycle', 'Bike', 'Tractor Truck Diesel', 'Van', 'Bus',\n",
       "       'Flat Rack', 'Convertible', 'PK', '4 dr sedan', 'E-Bike',\n",
       "       'Carry All', 'Garbage or Refuse', 'Concrete Mixer', 'TRANSPORT',\n",
       "       'Tractor Truck Gasoline', 'Flat Bed', 'FLAT', 'Moped',\n",
       "       'UTILITY TR', 'vAN', 'Tanker', 'Dump', 'Motorscooter',\n",
       "       'Chassis Cab', 'Rental van', 'Motorhome', 'LIMO', 'TRL', 'COM',\n",
       "       'Utility', 'Fire Truck', 'FIRE TRUCK', '3-Door', 'E-Scooter',\n",
       "       'UTILITY VA', 'Beverage Truck', 'MINIVAN', 'TRAILER', 'Fire rig t',\n",
       "       'FDNY Fire', 'GARBAGE TR', 'Bulk Agriculture', 'Motorbike',\n",
       "       'ELECTRIC S', 'Refrigerated Van', 'BK', 'MOPED', 'Trailer',\n",
       "       'Lift Boom', 'POWER SHOV', 'ECOLINE VA', 'Commercial', 'Trailor',\n",
       "       'motor home', 'PICKUP', 'WORK VAN', 'AMBULANCE', 'ICE CREAM',\n",
       "       'Unknown', 'Cargo', 'BOOM 60FT', 'AMB', 'Dollar Van', 'Tow-truck',\n",
       "       'UNICYCLE', 'bus', 'SPRINTER V', 'JEEP', 'USPS POSTA',\n",
       "       'School bus', 'HOME MADE', 'TOW TRUCK', 'PASSENGER', 'DELIVERY T',\n",
       "       'Sprinter V', 'School Bus', 'RV', 'NYC SANITA', 'US GOVERME',\n",
       "       'vehicle tr', 'STATION WA', 'Open Body', 'Moped scoo', 'UNK',\n",
       "       'COMMERCIAL', 'Budget tru', 'Multi-Wheeled Vehicle', 'BOX TRUCK',\n",
       "       'C1', 'sprinter', 'NYC AMBULA', 'FDNY FIRE', 'DUMP',\n",
       "       'Armored Truck', 'DIRT BIKE', 'Fdny fire', 'VS2', 'Sierra',\n",
       "       'unknown', 'UNKNOWN', 'semitraile', 'Truck', 'MTA bus',\n",
       "       'Snow Plow', 'Box truck', 'FORD', 'van', 'PICK UP', 'SPC',\n",
       "       'UHAUL VAN', 'VAN TRUCK', 'USPS MAIL', 'UNKOWN', 'HOUSE ON W',\n",
       "       'E-BIKE', 'TRUCK', 'CARGO VAN', 'Stake or Rack', 'CONCRETE M',\n",
       "       'MTA BUS', 'UNATTACHED', 'UHAUL BOX', 'UHAUL Trai', 'FDNY FIRET',\n",
       "       'trailer', 'TRACTOR TR', 'bmw moped', 'Motorized Home',\n",
       "       'passenger', 'Garbage tr', 'DUAL', 'FOOD TRUCK', 'Pallet', 'TRACT',\n",
       "       'E-Bik', 'Fire', 'DELIV', 'box t', 'FOOD', 'SCHOO', 'hrse',\n",
       "       'TRAIL', 'AMBUL', 'Trail', 'BOOM', 'Tow Truck',\n",
       "       'Pickup with mounted Camper', 'scoot', 'DIRT-', '38AB-', 'ambul',\n",
       "       'tank', 'BUs', 'Pedicab', 'POSTA', 'FDNY', 'VERIZ', 'Ambul',\n",
       "       'P/SH', 'SANIT', 'CMIX', 'ELECT', 'yello', 'TRIALER', 'TLR',\n",
       "       'GOVER', 'UTILI', 'trail', 'comme', 'bsd', 'Freig', 'com', 'FORK',\n",
       "       'Vanette', 'POWER', 'TOW T', 'OLM', 'elect', 'Horse', 'STREE',\n",
       "       'tract', 'USPS', 'HEAVY', 'dump', 'suv /', 'harve', 'tow', 'PAS',\n",
       "       'OMT', 'MOTOR', 'UNKNO', 'firet', 'GMC T', 'road', 'AMUBL',\n",
       "       'const', 'FORKL', 'COMME', 'Uhaul', 'Utili', 'psd', 'MTA B',\n",
       "       'SHORT', 'CARGO', 'fre', 'mta b', 'PICK-UP TRUCK', '2 dr sedan',\n",
       "       'FIRE', 'BICYCLE', 'sanit', 'BARRI', 'unkno',\n",
       "       'SPORT UTILITY / STATION WAGON', 'FIRET', 'PASSENGER VEHICLE',\n",
       "       'OTHER', 'TAXI', 'LIVERY VEHICLE', 'VAN', 'SCOOTER',\n",
       "       'SMALL COM VEH(4 TIRES) ', 'LARGE COM VEH(6 OR MORE TIRES)', 'BUS',\n",
       "       'MOTORCYCLE', 'PEDICAB'], dtype=object)"
      ]
     },
     "execution_count": 41,
     "metadata": {},
     "output_type": "execute_result"
    }
   ],
   "source": [
    "df['VEHICLE TYPE CODE 3'].unique()"
   ]
  },
  {
   "cell_type": "code",
   "execution_count": 42,
   "id": "ece22a04-97ce-4896-926a-276310a6d370",
   "metadata": {
    "tags": []
   },
   "outputs": [
    {
     "data": {
      "text/plain": [
       "array([nan, 'Sedan', 'Station Wagon/Sport Utility Vehicle',\n",
       "       'Pick-up Truck', 'Box Truck', 'Bike', 'Van', 'LIMO', 'Tanker',\n",
       "       'Taxi', 'Tow Truck / Wrecker', 'PK', 'E-Bike', 'Carry All',\n",
       "       'Motorcycle', '4 dr sedan', 'Convertible', 'Tractor Truck Diesel',\n",
       "       'SEMI-TRUCK', 'Flat Bed', 'Dump', 'Motorbike', 'Moped', 'Bus',\n",
       "       'Tractor Tr', 'Ambulance', 'PICK UP TR', 'Garbage or Refuse',\n",
       "       'BOAT', 'Multi-Wheeled Vehicle', 'Bulk Agriculture', 'E-Scooter',\n",
       "       'AMBULANCE', 'ECONOLINE', 'Trailor', 'Courier', '3-Door',\n",
       "       'Lift Boom', 'School Bus', 'SUBURBAN', 'SEDAN', 'Beverage Truck',\n",
       "       'Tractor Truck Gasoline', 'Firetruck', 'UNK', 'NYC TRANSI',\n",
       "       'Pedicab', 'DELIVERY T', 'van', 'bus', 'WORK VAN', 'SNOWMOBILE',\n",
       "       'Motorscooter', 'UHAUL', 'PICK-UP TR', 'Refrigerated Van',\n",
       "       'FLATBED TR', 'CARGO VAN', 'trailor', 'TRAILER', 'Box',\n",
       "       'Chassis Cab', 'Open Body', 'FDNY', 'TLR', 'TOYOT', 'SPRIN',\n",
       "       'TRAIL', 'Deliv', 'TOW T', 'TRACT', 'trail', 'dump', 'PAS 5',\n",
       "       '2 dr sedan', 'AMBUL', 'BURG', 'PASSENGER VEHICLE', 'JEEP',\n",
       "       'MOPED', 'UNKNOWN', 'SPORT UTILITY / STATION WAGON', 'MOTORCYCLE',\n",
       "       'PICK-UP TRUCK', 'OTHER', 'VAN', 'TAXI', 'LIVERY VEHICLE',\n",
       "       'SMALL COM VEH(4 TIRES) ', 'BUS', 'LARGE COM VEH(6 OR MORE TIRES)',\n",
       "       'BICYCLE', 'SCOOTER', 'FIRE TRUCK'], dtype=object)"
      ]
     },
     "execution_count": 42,
     "metadata": {},
     "output_type": "execute_result"
    }
   ],
   "source": [
    "df['VEHICLE TYPE CODE 4'].unique()"
   ]
  },
  {
   "cell_type": "code",
   "execution_count": 43,
   "id": "c89859c3-d675-4d42-bd0f-c451816128cc",
   "metadata": {
    "tags": []
   },
   "outputs": [
    {
     "name": "stdout",
     "output_type": "stream",
     "text": [
      "1483\n",
      "1658\n",
      "233\n",
      "93\n"
     ]
    }
   ],
   "source": [
    "print(df['VEHICLE TYPE CODE 1'].nunique())\n",
    "print(df['VEHICLE TYPE CODE 2'].nunique())\n",
    "print(df['VEHICLE TYPE CODE 3'].nunique())\n",
    "print(df['VEHICLE TYPE CODE 4'].nunique())"
   ]
  },
  {
   "cell_type": "code",
   "execution_count": 44,
   "id": "5a3dbcde-dfff-4925-a1fd-618ff6e1e2e8",
   "metadata": {
    "tags": []
   },
   "outputs": [
    {
     "data": {
      "text/plain": [
       "Sedan                                  9638\n",
       "Station Wagon/Sport Utility Vehicle    7855\n",
       "PASSENGER VEHICLE                      5969\n",
       "SPORT UTILITY / STATION WAGON          2852\n",
       "UNKNOWN                                 595\n",
       "                                       ... \n",
       "SPRIN                                     1\n",
       "TRAIL                                     1\n",
       "Deliv                                     1\n",
       "TOW T                                     1\n",
       "DELIVERY T                                1\n",
       "Name: VEHICLE TYPE CODE 4, Length: 93, dtype: int64"
      ]
     },
     "execution_count": 44,
     "metadata": {},
     "output_type": "execute_result"
    }
   ],
   "source": [
    "df['VEHICLE TYPE CODE 4'].value_counts()"
   ]
  },
  {
   "cell_type": "code",
   "execution_count": 135,
   "id": "cfe3fbfd-2b43-4545-8fa1-d49d81359661",
   "metadata": {
    "tags": []
   },
   "outputs": [],
   "source": [
    "CrashesByVehicles=df['VEHICLE TYPE CODE 4'].value_counts()\n"
   ]
  },
  {
   "cell_type": "code",
   "execution_count": 136,
   "id": "3c115310-f65e-4202-bc0e-2dcda39637d0",
   "metadata": {
    "tags": []
   },
   "outputs": [],
   "source": [
    "CrashesByVehicles=pd.DataFrame(CrashesByVehicles)"
   ]
  },
  {
   "cell_type": "code",
   "execution_count": 142,
   "id": "0ebb3acb-9ae1-4ec4-8a3a-80c907ad4b40",
   "metadata": {
    "tags": []
   },
   "outputs": [
    {
     "data": {
      "text/plain": [
       "Index(['VEHICLE TYPE CODE 4'], dtype='object')"
      ]
     },
     "execution_count": 142,
     "metadata": {},
     "output_type": "execute_result"
    }
   ],
   "source": [
    "CrashesByVehicles.columns"
   ]
  },
  {
   "cell_type": "code",
   "execution_count": 137,
   "id": "83752d35-d6c9-4f8e-b7af-2176abdd5d48",
   "metadata": {
    "tags": []
   },
   "outputs": [],
   "source": [
    "CrashesByVehicles.to_csv(\"CrashesByVehiclesData\")"
   ]
  },
  {
   "cell_type": "code",
   "execution_count": 140,
   "id": "1cef94a7-acf2-4c62-b841-def9daf7c70b",
   "metadata": {
    "tags": []
   },
   "outputs": [],
   "source": [
    "CrashesByVehicles_df=pd.read_csv('../data/CrashesByVehiclesData')"
   ]
  },
  {
   "cell_type": "code",
   "execution_count": 143,
   "id": "49f91277-8722-4510-a067-f33b7771fc54",
   "metadata": {
    "tags": []
   },
   "outputs": [
    {
     "data": {
      "text/plain": [
       "Index(['Unnamed: 0', 'VEHICLE TYPE CODE 4'], dtype='object')"
      ]
     },
     "execution_count": 143,
     "metadata": {},
     "output_type": "execute_result"
    }
   ],
   "source": [
    "CrashesByVehicles_df.columns"
   ]
  },
  {
   "cell_type": "code",
   "execution_count": 144,
   "id": "ea98dcd8-bf60-4f2d-b33f-ab3a152bcd06",
   "metadata": {
    "tags": []
   },
   "outputs": [
    {
     "name": "stderr",
     "output_type": "stream",
     "text": [
      "C:\\Users\\asus\\AppData\\Local\\Temp\\ipykernel_21884\\2469852982.py:1: FutureWarning: DataFrame.set_axis 'inplace' keyword is deprecated and will be removed in a future version. Use `obj = obj.set_axis(..., copy=False)` instead\n",
      "  CrashesByVehicles_df.set_axis([\"VehicleType\", \"crashes\"], axis=\"columns\", inplace=True)\n"
     ]
    }
   ],
   "source": [
    "CrashesByVehicles_df.set_axis([\"VehicleType\", \"crashes\"], axis=\"columns\", inplace=True)"
   ]
  },
  {
   "cell_type": "code",
   "execution_count": 148,
   "id": "cc956788-c07f-48f0-beca-3b6f50f1dcf2",
   "metadata": {
    "tags": []
   },
   "outputs": [],
   "source": [
    "CrashesByVehicles_df.sort_values(by=['crashes'],ascending=False,inplace=True)"
   ]
  },
  {
   "cell_type": "code",
   "execution_count": 149,
   "id": "502543d2-37ce-40bf-ba84-596977b0bc68",
   "metadata": {
    "tags": []
   },
   "outputs": [
    {
     "data": {
      "text/html": [
       "<div>\n",
       "<style scoped>\n",
       "    .dataframe tbody tr th:only-of-type {\n",
       "        vertical-align: middle;\n",
       "    }\n",
       "\n",
       "    .dataframe tbody tr th {\n",
       "        vertical-align: top;\n",
       "    }\n",
       "\n",
       "    .dataframe thead th {\n",
       "        text-align: right;\n",
       "    }\n",
       "</style>\n",
       "<table border=\"1\" class=\"dataframe\">\n",
       "  <thead>\n",
       "    <tr style=\"text-align: right;\">\n",
       "      <th></th>\n",
       "      <th>VehicleType</th>\n",
       "      <th>crashes</th>\n",
       "    </tr>\n",
       "  </thead>\n",
       "  <tbody>\n",
       "    <tr>\n",
       "      <th>0</th>\n",
       "      <td>Sedan</td>\n",
       "      <td>9638</td>\n",
       "    </tr>\n",
       "    <tr>\n",
       "      <th>1</th>\n",
       "      <td>Station Wagon/Sport Utility Vehicle</td>\n",
       "      <td>7855</td>\n",
       "    </tr>\n",
       "    <tr>\n",
       "      <th>2</th>\n",
       "      <td>PASSENGER VEHICLE</td>\n",
       "      <td>5969</td>\n",
       "    </tr>\n",
       "    <tr>\n",
       "      <th>3</th>\n",
       "      <td>SPORT UTILITY / STATION WAGON</td>\n",
       "      <td>2852</td>\n",
       "    </tr>\n",
       "    <tr>\n",
       "      <th>4</th>\n",
       "      <td>UNKNOWN</td>\n",
       "      <td>595</td>\n",
       "    </tr>\n",
       "    <tr>\n",
       "      <th>...</th>\n",
       "      <td>...</td>\n",
       "      <td>...</td>\n",
       "    </tr>\n",
       "    <tr>\n",
       "      <th>84</th>\n",
       "      <td>Open Body</td>\n",
       "      <td>1</td>\n",
       "    </tr>\n",
       "    <tr>\n",
       "      <th>85</th>\n",
       "      <td>FDNY</td>\n",
       "      <td>1</td>\n",
       "    </tr>\n",
       "    <tr>\n",
       "      <th>86</th>\n",
       "      <td>TLR</td>\n",
       "      <td>1</td>\n",
       "    </tr>\n",
       "    <tr>\n",
       "      <th>87</th>\n",
       "      <td>TOYOT</td>\n",
       "      <td>1</td>\n",
       "    </tr>\n",
       "    <tr>\n",
       "      <th>92</th>\n",
       "      <td>DELIVERY T</td>\n",
       "      <td>1</td>\n",
       "    </tr>\n",
       "  </tbody>\n",
       "</table>\n",
       "<p>93 rows × 2 columns</p>\n",
       "</div>"
      ],
      "text/plain": [
       "                            VehicleType  crashes\n",
       "0                                 Sedan     9638\n",
       "1   Station Wagon/Sport Utility Vehicle     7855\n",
       "2                     PASSENGER VEHICLE     5969\n",
       "3         SPORT UTILITY / STATION WAGON     2852\n",
       "4                               UNKNOWN      595\n",
       "..                                  ...      ...\n",
       "84                            Open Body        1\n",
       "85                                 FDNY        1\n",
       "86                                  TLR        1\n",
       "87                                TOYOT        1\n",
       "92                           DELIVERY T        1\n",
       "\n",
       "[93 rows x 2 columns]"
      ]
     },
     "execution_count": 149,
     "metadata": {},
     "output_type": "execute_result"
    }
   ],
   "source": [
    "CrashesByVehicles_df"
   ]
  },
  {
   "cell_type": "code",
   "execution_count": 154,
   "id": "47b83e4c-25f8-4338-99aa-e11f938d40a9",
   "metadata": {
    "tags": []
   },
   "outputs": [],
   "source": [
    "VehicleTypes=CrashesByVehicles_df[CrashesByVehicles_df.columns[0]].tolist()\n"
   ]
  },
  {
   "cell_type": "code",
   "execution_count": 157,
   "id": "5a6b4f1b-c20e-4963-9089-039311fcb6ee",
   "metadata": {
    "tags": []
   },
   "outputs": [
    {
     "name": "stdout",
     "output_type": "stream",
     "text": [
      "['Sedan', 'Station Wagon/Sport Utility Vehicle', 'PASSENGER VEHICLE', 'SPORT UTILITY / STATION WAGON', 'UNKNOWN', '4 dr sedan', 'Pick-up Truck', 'Taxi', 'VAN', 'OTHER', 'TAXI', 'PICK-UP TRUCK', 'Box Truck', 'Bus', 'Motorcycle', 'Van', 'LARGE COM VEH(6 OR MORE TIRES)', 'SMALL COM VEH(4 TIRES) ', 'LIVERY VEHICLE', 'BUS', '2 dr sedan', 'Convertible', 'Tractor Truck Diesel', 'Bike', 'Dump', 'MOTORCYCLE', 'BICYCLE', 'PK', 'Carry All', 'Garbage or Refuse', 'Flat Bed', 'E-Bike', 'Moped', 'E-Scooter', 'Tow Truck / Wrecker', 'Ambulance', 'LIMO', 'van', 'Tanker', 'SCOOTER', 'AMBULANCE', 'Beverage Truck', 'Tractor Truck Gasoline', 'Chassis Cab', 'Refrigerated Van', 'Motorscooter', 'TRACT', '3-Door', 'FIRE TRUCK', 'Multi-Wheeled Vehicle', 'ECONOLINE', 'School Bus', 'UNK', 'Lift Boom', 'SEMI-TRUCK', 'JEEP', 'trail', 'Courier', 'bus', 'SEDAN', 'AMBUL', 'BURG', 'SUBURBAN', 'MOPED', 'Motorbike', 'WORK VAN', 'PAS 5', 'Trailor', 'Bulk Agriculture', 'BOAT', 'PICK UP TR', 'Tractor Tr', 'dump', 'Firetruck', 'TRAIL', 'FLATBED TR', 'TOW T', 'trailor', 'SNOWMOBILE', 'Pedicab', 'UHAUL', 'PICK-UP TR', 'NYC TRANSI', 'CARGO VAN', 'SPRIN', 'Box', 'Deliv', 'TRAILER', 'Open Body', 'FDNY', 'TLR', 'TOYOT', 'DELIVERY T']\n"
     ]
    }
   ],
   "source": [
    "print(VehicleTypes)"
   ]
  },
  {
   "cell_type": "code",
   "execution_count": 155,
   "id": "e0345151-791f-4d24-b6c6-bc83e5f4176b",
   "metadata": {
    "tags": []
   },
   "outputs": [],
   "source": [
    "crashes_over_vehicles=CrashesByVehicles_df[CrashesByVehicles_df.columns[1]].tolist()"
   ]
  },
  {
   "cell_type": "code",
   "execution_count": 159,
   "id": "c343def1-9643-4936-ac3e-13d6abdfe1b6",
   "metadata": {
    "tags": []
   },
   "outputs": [
    {
     "name": "stdout",
     "output_type": "stream",
     "text": [
      "[9638, 7855, 5969, 2852, 595, 567, 440, 414, 242, 189, 144, 112, 109, 87, 67, 61, 58, 56, 54, 52, 42, 42, 39, 28, 27, 26, 23, 16, 12, 12, 11, 11, 9, 8, 7, 5, 5, 5, 5, 4, 3, 3, 3, 3, 3, 3, 2, 2, 2, 2, 2, 2, 2, 2, 1, 1, 1, 1, 1, 1, 1, 1, 1, 1, 1, 1, 1, 1, 1, 1, 1, 1, 1, 1, 1, 1, 1, 1, 1, 1, 1, 1, 1, 1, 1, 1, 1, 1, 1, 1, 1, 1, 1]\n",
      "93\n"
     ]
    }
   ],
   "source": [
    "print(crashes_over_vehicles)\n",
    "print(len(crashes_over_vehicles))"
   ]
  },
  {
   "cell_type": "code",
   "execution_count": 52,
   "id": "59ff7280-8884-4ec3-b894-e845042412e5",
   "metadata": {
    "tags": []
   },
   "outputs": [],
   "source": [
    "import matplotlib.pyplot as plt"
   ]
  },
  {
   "cell_type": "code",
   "execution_count": 160,
   "id": "2bf95857-1bf6-4b06-b49f-cf44a0865c45",
   "metadata": {
    "tags": []
   },
   "outputs": [
    {
     "data": {
      "image/png": "[encoded data removed]",
      "text/plain": [
       "<Figure size 640x480 with 1 Axes>"
      ]
     },
     "metadata": {},
     "output_type": "display_data"
    }
   ],
   "source": [
    "plt.pie(crashes_over_vehicles,labels=VehicleTypes,rotatelabels=True)\n",
    "plt.show()"
   ]
  },
  {
   "cell_type": "code",
   "execution_count": null,
   "id": "3835da35-3c3f-44bb-8320-48d2c8117015",
   "metadata": {},
   "outputs": [],
   "source": []
  },
  {
   "cell_type": "markdown",
   "id": "3cc1bb3b-9f3f-46f5-827a-dfa08a4e4ae8",
   "metadata": {
    "tags": []
   },
   "source": [
    "## Distribution of crashes over year"
   ]
  },
  {
   "cell_type": "code",
   "execution_count": 60,
   "id": "937f9b07-e8ff-438c-b2d9-4283d627ba5f",
   "metadata": {},
   "outputs": [
    {
     "data": {
      "text/plain": [
       "Index(['CRASH_DATE', 'CRASH_TIME', 'BOROUGH', 'ZIP CODE', 'LATITUDE',\n",
       "       'LONGITUDE', 'LOCATION', 'ON STREET NAME', 'CROSS STREET NAME',\n",
       "       'OFF STREET NAME', 'NUMBER OF PERSONS INJURED',\n",
       "       'NUMBER OF PERSONS KILLED', 'NUMBER OF PEDESTRIANS INJURED',\n",
       "       'NUMBER OF PEDESTRIANS KILLED', 'NUMBER OF CYCLIST INJURED',\n",
       "       'NUMBER OF CYCLIST KILLED', 'NUMBER OF MOTORIST INJURED',\n",
       "       'NUMBER OF MOTORIST KILLED', 'CONTRIBUTING FACTOR VEHICLE 1',\n",
       "       'CONTRIBUTING FACTOR VEHICLE 2', 'CONTRIBUTING FACTOR VEHICLE 3',\n",
       "       'CONTRIBUTING FACTOR VEHICLE 4', 'CONTRIBUTING FACTOR VEHICLE 5',\n",
       "       'COLLISION_ID', 'VEHICLE TYPE CODE 1', 'VEHICLE TYPE CODE 2',\n",
       "       'VEHICLE TYPE CODE 3', 'VEHICLE TYPE CODE 4', 'VEHICLE TYPE CODE 5',\n",
       "       'Day_Name'],\n",
       "      dtype='object')"
      ]
     },
     "execution_count": 60,
     "metadata": {},
     "output_type": "execute_result"
    }
   ],
   "source": [
    "df.columns"
   ]
  },
  {
   "cell_type": "code",
   "execution_count": 61,
   "id": "45a37560-3fa6-424b-b649-f76a63de03c9",
   "metadata": {
    "tags": []
   },
   "outputs": [
    {
     "data": {
      "text/plain": [
       "0         2023-02-27\n",
       "1         2023-02-27\n",
       "2         2023-02-27\n",
       "3         2023-02-27\n",
       "4         2023-02-27\n",
       "             ...    \n",
       "1972600   2012-07-01\n",
       "1972601   2012-07-01\n",
       "1972602   2012-07-01\n",
       "1972603   2012-07-01\n",
       "1972604   2012-07-01\n",
       "Name: CRASH_DATE, Length: 1972605, dtype: datetime64[ns]"
      ]
     },
     "execution_count": 61,
     "metadata": {},
     "output_type": "execute_result"
    }
   ],
   "source": [
    "df.CRASH_DATE"
   ]
  },
  {
   "cell_type": "code",
   "execution_count": 62,
   "id": "54126a92-b0c8-4911-9185-9f033d2beeec",
   "metadata": {
    "tags": []
   },
   "outputs": [
    {
     "data": {
      "text/html": [
       "<div>\n",
       "<style scoped>\n",
       "    .dataframe tbody tr th:only-of-type {\n",
       "        vertical-align: middle;\n",
       "    }\n",
       "\n",
       "    .dataframe tbody tr th {\n",
       "        vertical-align: top;\n",
       "    }\n",
       "\n",
       "    .dataframe thead th {\n",
       "        text-align: right;\n",
       "    }\n",
       "</style>\n",
       "<table border=\"1\" class=\"dataframe\">\n",
       "  <thead>\n",
       "    <tr style=\"text-align: right;\">\n",
       "      <th></th>\n",
       "      <th>CRASH_DATE</th>\n",
       "      <th>CRASH_TIME</th>\n",
       "      <th>BOROUGH</th>\n",
       "      <th>ZIP CODE</th>\n",
       "      <th>LATITUDE</th>\n",
       "      <th>LONGITUDE</th>\n",
       "      <th>LOCATION</th>\n",
       "      <th>ON STREET NAME</th>\n",
       "      <th>CROSS STREET NAME</th>\n",
       "      <th>OFF STREET NAME</th>\n",
       "      <th>...</th>\n",
       "      <th>CONTRIBUTING FACTOR VEHICLE 3</th>\n",
       "      <th>CONTRIBUTING FACTOR VEHICLE 4</th>\n",
       "      <th>CONTRIBUTING FACTOR VEHICLE 5</th>\n",
       "      <th>COLLISION_ID</th>\n",
       "      <th>VEHICLE TYPE CODE 1</th>\n",
       "      <th>VEHICLE TYPE CODE 2</th>\n",
       "      <th>VEHICLE TYPE CODE 3</th>\n",
       "      <th>VEHICLE TYPE CODE 4</th>\n",
       "      <th>VEHICLE TYPE CODE 5</th>\n",
       "      <th>Day_Name</th>\n",
       "    </tr>\n",
       "  </thead>\n",
       "  <tbody>\n",
       "    <tr>\n",
       "      <th>0</th>\n",
       "      <td>2023-02-27</td>\n",
       "      <td>800</td>\n",
       "      <td>NaN</td>\n",
       "      <td>NaN</td>\n",
       "      <td>40.706630</td>\n",
       "      <td>-73.806595</td>\n",
       "      <td>(40.70663, -73.806595)</td>\n",
       "      <td>HILLSIDE AVENUE</td>\n",
       "      <td>NaN</td>\n",
       "      <td>NaN</td>\n",
       "      <td>...</td>\n",
       "      <td>NaN</td>\n",
       "      <td>NaN</td>\n",
       "      <td>NaN</td>\n",
       "      <td>4608757</td>\n",
       "      <td>Sedan</td>\n",
       "      <td>Station Wagon/Sport Utility Vehicle</td>\n",
       "      <td>NaN</td>\n",
       "      <td>NaN</td>\n",
       "      <td>NaN</td>\n",
       "      <td>Monday</td>\n",
       "    </tr>\n",
       "    <tr>\n",
       "      <th>1</th>\n",
       "      <td>2023-02-27</td>\n",
       "      <td>1700</td>\n",
       "      <td>BROOKLYN</td>\n",
       "      <td>11230.0</td>\n",
       "      <td>40.612550</td>\n",
       "      <td>-73.962870</td>\n",
       "      <td>(40.61255, -73.96287)</td>\n",
       "      <td>CONEY ISLAND AVENUE</td>\n",
       "      <td>AVENUE O</td>\n",
       "      <td>NaN</td>\n",
       "      <td>...</td>\n",
       "      <td>NaN</td>\n",
       "      <td>NaN</td>\n",
       "      <td>NaN</td>\n",
       "      <td>4608924</td>\n",
       "      <td>NaN</td>\n",
       "      <td>NaN</td>\n",
       "      <td>NaN</td>\n",
       "      <td>NaN</td>\n",
       "      <td>NaN</td>\n",
       "      <td>Monday</td>\n",
       "    </tr>\n",
       "    <tr>\n",
       "      <th>2</th>\n",
       "      <td>2023-02-27</td>\n",
       "      <td>1900</td>\n",
       "      <td>BRONX</td>\n",
       "      <td>10466.0</td>\n",
       "      <td>40.899250</td>\n",
       "      <td>-73.858185</td>\n",
       "      <td>(40.89925, -73.858185)</td>\n",
       "      <td>NaN</td>\n",
       "      <td>NaN</td>\n",
       "      <td>4380      BRONX BOULEVARD</td>\n",
       "      <td>...</td>\n",
       "      <td>NaN</td>\n",
       "      <td>NaN</td>\n",
       "      <td>NaN</td>\n",
       "      <td>4608831</td>\n",
       "      <td>Station Wagon/Sport Utility Vehicle</td>\n",
       "      <td>NaN</td>\n",
       "      <td>NaN</td>\n",
       "      <td>NaN</td>\n",
       "      <td>NaN</td>\n",
       "      <td>Monday</td>\n",
       "    </tr>\n",
       "    <tr>\n",
       "      <th>3</th>\n",
       "      <td>2023-02-27</td>\n",
       "      <td>100</td>\n",
       "      <td>NaN</td>\n",
       "      <td>NaN</td>\n",
       "      <td>40.760155</td>\n",
       "      <td>-73.998800</td>\n",
       "      <td>(40.760155, -73.9988)</td>\n",
       "      <td>WEST 41 STREET</td>\n",
       "      <td>NaN</td>\n",
       "      <td>NaN</td>\n",
       "      <td>...</td>\n",
       "      <td>NaN</td>\n",
       "      <td>NaN</td>\n",
       "      <td>NaN</td>\n",
       "      <td>4608898</td>\n",
       "      <td>Sedan</td>\n",
       "      <td>Bus</td>\n",
       "      <td>NaN</td>\n",
       "      <td>NaN</td>\n",
       "      <td>NaN</td>\n",
       "      <td>Monday</td>\n",
       "    </tr>\n",
       "    <tr>\n",
       "      <th>4</th>\n",
       "      <td>2023-02-27</td>\n",
       "      <td>2000</td>\n",
       "      <td>BRONX</td>\n",
       "      <td>10469.0</td>\n",
       "      <td>40.879110</td>\n",
       "      <td>-73.843250</td>\n",
       "      <td>(40.87911, -73.84325)</td>\n",
       "      <td>BOSTON ROAD</td>\n",
       "      <td>EAST 222 STREET</td>\n",
       "      <td>NaN</td>\n",
       "      <td>...</td>\n",
       "      <td>NaN</td>\n",
       "      <td>NaN</td>\n",
       "      <td>NaN</td>\n",
       "      <td>4608832</td>\n",
       "      <td>Sedan</td>\n",
       "      <td>Sedan</td>\n",
       "      <td>NaN</td>\n",
       "      <td>NaN</td>\n",
       "      <td>NaN</td>\n",
       "      <td>Monday</td>\n",
       "    </tr>\n",
       "  </tbody>\n",
       "</table>\n",
       "<p>5 rows × 30 columns</p>\n",
       "</div>"
      ],
      "text/plain": [
       "  CRASH_DATE CRASH_TIME   BOROUGH ZIP CODE   LATITUDE  LONGITUDE  \\\n",
       "0 2023-02-27        800       NaN      NaN  40.706630 -73.806595   \n",
       "1 2023-02-27       1700  BROOKLYN  11230.0  40.612550 -73.962870   \n",
       "2 2023-02-27       1900     BRONX  10466.0  40.899250 -73.858185   \n",
       "3 2023-02-27        100       NaN      NaN  40.760155 -73.998800   \n",
       "4 2023-02-27       2000     BRONX  10469.0  40.879110 -73.843250   \n",
       "\n",
       "                 LOCATION       ON STREET NAME CROSS STREET NAME  \\\n",
       "0  (40.70663, -73.806595)      HILLSIDE AVENUE               NaN   \n",
       "1   (40.61255, -73.96287)  CONEY ISLAND AVENUE          AVENUE O   \n",
       "2  (40.89925, -73.858185)                  NaN               NaN   \n",
       "3   (40.760155, -73.9988)       WEST 41 STREET               NaN   \n",
       "4   (40.87911, -73.84325)          BOSTON ROAD   EAST 222 STREET   \n",
       "\n",
       "             OFF STREET NAME  ...  CONTRIBUTING FACTOR VEHICLE 3  \\\n",
       "0                        NaN  ...                            NaN   \n",
       "1                        NaN  ...                            NaN   \n",
       "2  4380      BRONX BOULEVARD  ...                            NaN   \n",
       "3                        NaN  ...                            NaN   \n",
       "4                        NaN  ...                            NaN   \n",
       "\n",
       "   CONTRIBUTING FACTOR VEHICLE 4  CONTRIBUTING FACTOR VEHICLE 5  COLLISION_ID  \\\n",
       "0                            NaN                            NaN       4608757   \n",
       "1                            NaN                            NaN       4608924   \n",
       "2                            NaN                            NaN       4608831   \n",
       "3                            NaN                            NaN       4608898   \n",
       "4                            NaN                            NaN       4608832   \n",
       "\n",
       "                   VEHICLE TYPE CODE 1                  VEHICLE TYPE CODE 2  \\\n",
       "0                                Sedan  Station Wagon/Sport Utility Vehicle   \n",
       "1                                  NaN                                  NaN   \n",
       "2  Station Wagon/Sport Utility Vehicle                                  NaN   \n",
       "3                                Sedan                                  Bus   \n",
       "4                                Sedan                                Sedan   \n",
       "\n",
       "   VEHICLE TYPE CODE 3  VEHICLE TYPE CODE 4 VEHICLE TYPE CODE 5 Day_Name  \n",
       "0                  NaN                  NaN                 NaN   Monday  \n",
       "1                  NaN                  NaN                 NaN   Monday  \n",
       "2                  NaN                  NaN                 NaN   Monday  \n",
       "3                  NaN                  NaN                 NaN   Monday  \n",
       "4                  NaN                  NaN                 NaN   Monday  \n",
       "\n",
       "[5 rows x 30 columns]"
      ]
     },
     "execution_count": 62,
     "metadata": {},
     "output_type": "execute_result"
    }
   ],
   "source": [
    "df.head()"
   ]
  },
  {
   "cell_type": "code",
   "execution_count": 72,
   "id": "b7427d80-be90-4289-ae92-624e30027681",
   "metadata": {
    "tags": []
   },
   "outputs": [],
   "source": [
    "df['CRASH_YEAR']=df['CRASH_DATE'].apply(lambda x: x.strftime('%Y'))"
   ]
  },
  {
   "cell_type": "code",
   "execution_count": 73,
   "id": "5a72defb-7bee-442e-8948-e1c72e9002a3",
   "metadata": {
    "tags": []
   },
   "outputs": [
    {
     "data": {
      "text/plain": [
       "0          2023\n",
       "1          2023\n",
       "2          2023\n",
       "3          2023\n",
       "4          2023\n",
       "           ... \n",
       "1972600    2012\n",
       "1972601    2012\n",
       "1972602    2012\n",
       "1972603    2012\n",
       "1972604    2012\n",
       "Name: CRASH_YEAR, Length: 1972605, dtype: object"
      ]
     },
     "execution_count": 73,
     "metadata": {},
     "output_type": "execute_result"
    }
   ],
   "source": [
    "df['CRASH_YEAR']"
   ]
  },
  {
   "cell_type": "code",
   "execution_count": 74,
   "id": "dbdde2c9-dd4b-4fe0-9cd5-f2c424ac3d83",
   "metadata": {
    "tags": []
   },
   "outputs": [
    {
     "data": {
      "text/plain": [
       "2018    231564\n",
       "2017    231007\n",
       "2016    229831\n",
       "2015    217694\n",
       "2019    211486\n",
       "2014    206033\n",
       "2013    203734\n",
       "2020    112915\n",
       "2021    110546\n",
       "2022    103743\n",
       "2012    100545\n",
       "2023     13507\n",
       "Name: CRASH_YEAR, dtype: int64"
      ]
     },
     "execution_count": 74,
     "metadata": {},
     "output_type": "execute_result"
    }
   ],
   "source": [
    "df['CRASH_YEAR'].value_counts()"
   ]
  },
  {
   "cell_type": "code",
   "execution_count": 75,
   "id": "2e540985-3206-4876-98ce-a1bd02487eab",
   "metadata": {
    "tags": []
   },
   "outputs": [
    {
     "data": {
      "text/plain": [
       "2023     13507\n",
       "2012    100545\n",
       "2022    103743\n",
       "2021    110546\n",
       "2020    112915\n",
       "2013    203734\n",
       "2014    206033\n",
       "2019    211486\n",
       "2015    217694\n",
       "2016    229831\n",
       "2017    231007\n",
       "2018    231564\n",
       "Name: CRASH_YEAR, dtype: int64"
      ]
     },
     "execution_count": 75,
     "metadata": {},
     "output_type": "execute_result"
    }
   ],
   "source": [
    "df['CRASH_YEAR'].value_counts(ascending=True)"
   ]
  },
  {
   "cell_type": "code",
   "execution_count": 76,
   "id": "b8ccb3e3-3bc8-46b7-a455-e6263b3ece2e",
   "metadata": {
    "tags": []
   },
   "outputs": [],
   "source": [
    "crash_year_data=df['CRASH_YEAR'].value_counts(ascending=True)"
   ]
  },
  {
   "cell_type": "code",
   "execution_count": 79,
   "id": "7f8e22f7-e11e-4c82-9555-bdf4b2a43bf9",
   "metadata": {
    "tags": []
   },
   "outputs": [],
   "source": [
    "crash_year_data=pd.DataFrame(crash_year_data)"
   ]
  },
  {
   "cell_type": "code",
   "execution_count": 80,
   "id": "bbd77dac-6365-4a24-bace-17d14ff0574d",
   "metadata": {
    "tags": []
   },
   "outputs": [],
   "source": [
    "crash_year_data.to_csv(\"crash_by_year_data.csv\")"
   ]
  },
  {
   "cell_type": "code",
   "execution_count": 96,
   "id": "3417c116-d7f1-4141-bbe8-292d42646221",
   "metadata": {
    "tags": []
   },
   "outputs": [],
   "source": [
    "df_temp=pd.read_csv(\"../data/crash_by_year_data.csv\")"
   ]
  },
  {
   "cell_type": "code",
   "execution_count": 99,
   "id": "0d9d9e0d-f133-4059-a2ad-599c0416f19e",
   "metadata": {
    "tags": []
   },
   "outputs": [
    {
     "data": {
      "text/plain": [
       "Index(['Unnamed: 0', 'CRASH_YEAR'], dtype='object')"
      ]
     },
     "execution_count": 99,
     "metadata": {},
     "output_type": "execute_result"
    }
   ],
   "source": [
    "df_temp.columns"
   ]
  },
  {
   "cell_type": "code",
   "execution_count": 111,
   "id": "471b2741-dab7-42ba-a65a-d64f1e4cf3f1",
   "metadata": {
    "tags": []
   },
   "outputs": [
    {
     "name": "stderr",
     "output_type": "stream",
     "text": [
      "C:\\Users\\asus\\AppData\\Local\\Temp\\ipykernel_21884\\2085733699.py:1: FutureWarning: DataFrame.set_axis 'inplace' keyword is deprecated and will be removed in a future version. Use `obj = obj.set_axis(..., copy=False)` instead\n",
      "  df_temp.set_axis([\"year\", \"crashes\"], axis=\"columns\", inplace=True)\n"
     ]
    }
   ],
   "source": [
    "df_temp.set_axis([\"year\", \"crashes\"], axis=\"columns\", inplace=True)"
   ]
  },
  {
   "cell_type": "code",
   "execution_count": 112,
   "id": "ef0f6c19-2e1a-47ec-95f1-e807a3c3599d",
   "metadata": {
    "tags": []
   },
   "outputs": [
    {
     "data": {
      "text/html": [
       "<div>\n",
       "<style scoped>\n",
       "    .dataframe tbody tr th:only-of-type {\n",
       "        vertical-align: middle;\n",
       "    }\n",
       "\n",
       "    .dataframe tbody tr th {\n",
       "        vertical-align: top;\n",
       "    }\n",
       "\n",
       "    .dataframe thead th {\n",
       "        text-align: right;\n",
       "    }\n",
       "</style>\n",
       "<table border=\"1\" class=\"dataframe\">\n",
       "  <thead>\n",
       "    <tr style=\"text-align: right;\">\n",
       "      <th></th>\n",
       "      <th>year</th>\n",
       "      <th>crashes</th>\n",
       "    </tr>\n",
       "  </thead>\n",
       "  <tbody>\n",
       "    <tr>\n",
       "      <th>0</th>\n",
       "      <td>2023</td>\n",
       "      <td>13507</td>\n",
       "    </tr>\n",
       "    <tr>\n",
       "      <th>1</th>\n",
       "      <td>2012</td>\n",
       "      <td>100545</td>\n",
       "    </tr>\n",
       "    <tr>\n",
       "      <th>2</th>\n",
       "      <td>2022</td>\n",
       "      <td>103743</td>\n",
       "    </tr>\n",
       "    <tr>\n",
       "      <th>3</th>\n",
       "      <td>2021</td>\n",
       "      <td>110546</td>\n",
       "    </tr>\n",
       "    <tr>\n",
       "      <th>4</th>\n",
       "      <td>2020</td>\n",
       "      <td>112915</td>\n",
       "    </tr>\n",
       "    <tr>\n",
       "      <th>5</th>\n",
       "      <td>2013</td>\n",
       "      <td>203734</td>\n",
       "    </tr>\n",
       "    <tr>\n",
       "      <th>6</th>\n",
       "      <td>2014</td>\n",
       "      <td>206033</td>\n",
       "    </tr>\n",
       "    <tr>\n",
       "      <th>7</th>\n",
       "      <td>2019</td>\n",
       "      <td>211486</td>\n",
       "    </tr>\n",
       "    <tr>\n",
       "      <th>8</th>\n",
       "      <td>2015</td>\n",
       "      <td>217694</td>\n",
       "    </tr>\n",
       "    <tr>\n",
       "      <th>9</th>\n",
       "      <td>2016</td>\n",
       "      <td>229831</td>\n",
       "    </tr>\n",
       "    <tr>\n",
       "      <th>10</th>\n",
       "      <td>2017</td>\n",
       "      <td>231007</td>\n",
       "    </tr>\n",
       "    <tr>\n",
       "      <th>11</th>\n",
       "      <td>2018</td>\n",
       "      <td>231564</td>\n",
       "    </tr>\n",
       "  </tbody>\n",
       "</table>\n",
       "</div>"
      ],
      "text/plain": [
       "    year  crashes\n",
       "0   2023    13507\n",
       "1   2012   100545\n",
       "2   2022   103743\n",
       "3   2021   110546\n",
       "4   2020   112915\n",
       "5   2013   203734\n",
       "6   2014   206033\n",
       "7   2019   211486\n",
       "8   2015   217694\n",
       "9   2016   229831\n",
       "10  2017   231007\n",
       "11  2018   231564"
      ]
     },
     "execution_count": 112,
     "metadata": {},
     "output_type": "execute_result"
    }
   ],
   "source": [
    "df_temp"
   ]
  },
  {
   "cell_type": "code",
   "execution_count": 117,
   "id": "f44b5529-910d-4780-8480-25e7649c2b10",
   "metadata": {
    "tags": []
   },
   "outputs": [],
   "source": [
    "df_temp.sort_values(by=['year'],inplace=True)"
   ]
  },
  {
   "cell_type": "code",
   "execution_count": 124,
   "id": "949d9ad0-8b61-4d0a-b26e-e5d5c8e245e8",
   "metadata": {
    "tags": []
   },
   "outputs": [
    {
     "data": {
      "text/html": [
       "<div>\n",
       "<style scoped>\n",
       "    .dataframe tbody tr th:only-of-type {\n",
       "        vertical-align: middle;\n",
       "    }\n",
       "\n",
       "    .dataframe tbody tr th {\n",
       "        vertical-align: top;\n",
       "    }\n",
       "\n",
       "    .dataframe thead th {\n",
       "        text-align: right;\n",
       "    }\n",
       "</style>\n",
       "<table border=\"1\" class=\"dataframe\">\n",
       "  <thead>\n",
       "    <tr style=\"text-align: right;\">\n",
       "      <th></th>\n",
       "      <th>year</th>\n",
       "      <th>crashes</th>\n",
       "    </tr>\n",
       "  </thead>\n",
       "  <tbody>\n",
       "    <tr>\n",
       "      <th>1</th>\n",
       "      <td>2012</td>\n",
       "      <td>100545</td>\n",
       "    </tr>\n",
       "    <tr>\n",
       "      <th>5</th>\n",
       "      <td>2013</td>\n",
       "      <td>203734</td>\n",
       "    </tr>\n",
       "    <tr>\n",
       "      <th>6</th>\n",
       "      <td>2014</td>\n",
       "      <td>206033</td>\n",
       "    </tr>\n",
       "    <tr>\n",
       "      <th>8</th>\n",
       "      <td>2015</td>\n",
       "      <td>217694</td>\n",
       "    </tr>\n",
       "    <tr>\n",
       "      <th>9</th>\n",
       "      <td>2016</td>\n",
       "      <td>229831</td>\n",
       "    </tr>\n",
       "    <tr>\n",
       "      <th>10</th>\n",
       "      <td>2017</td>\n",
       "      <td>231007</td>\n",
       "    </tr>\n",
       "    <tr>\n",
       "      <th>11</th>\n",
       "      <td>2018</td>\n",
       "      <td>231564</td>\n",
       "    </tr>\n",
       "    <tr>\n",
       "      <th>7</th>\n",
       "      <td>2019</td>\n",
       "      <td>211486</td>\n",
       "    </tr>\n",
       "    <tr>\n",
       "      <th>4</th>\n",
       "      <td>2020</td>\n",
       "      <td>112915</td>\n",
       "    </tr>\n",
       "    <tr>\n",
       "      <th>3</th>\n",
       "      <td>2021</td>\n",
       "      <td>110546</td>\n",
       "    </tr>\n",
       "    <tr>\n",
       "      <th>2</th>\n",
       "      <td>2022</td>\n",
       "      <td>103743</td>\n",
       "    </tr>\n",
       "    <tr>\n",
       "      <th>0</th>\n",
       "      <td>2023</td>\n",
       "      <td>13507</td>\n",
       "    </tr>\n",
       "  </tbody>\n",
       "</table>\n",
       "</div>"
      ],
      "text/plain": [
       "    year  crashes\n",
       "1   2012   100545\n",
       "5   2013   203734\n",
       "6   2014   206033\n",
       "8   2015   217694\n",
       "9   2016   229831\n",
       "10  2017   231007\n",
       "11  2018   231564\n",
       "7   2019   211486\n",
       "4   2020   112915\n",
       "3   2021   110546\n",
       "2   2022   103743\n",
       "0   2023    13507"
      ]
     },
     "execution_count": 124,
     "metadata": {},
     "output_type": "execute_result"
    }
   ],
   "source": [
    "df_temp"
   ]
  },
  {
   "cell_type": "code",
   "execution_count": 120,
   "id": "cd390f87-4097-4665-9cab-c8533e3c89c3",
   "metadata": {
    "tags": []
   },
   "outputs": [],
   "source": [
    "years=df_temp[df_temp.columns[0]].tolist()"
   ]
  },
  {
   "cell_type": "code",
   "execution_count": 121,
   "id": "bacb719f-ba09-46df-a08b-3abf8207d92a",
   "metadata": {
    "tags": []
   },
   "outputs": [
    {
     "data": {
      "text/plain": [
       "[2012, 2013, 2014, 2015, 2016, 2017, 2018, 2019, 2020, 2021, 2022, 2023]"
      ]
     },
     "execution_count": 121,
     "metadata": {},
     "output_type": "execute_result"
    }
   ],
   "source": [
    "years"
   ]
  },
  {
   "cell_type": "code",
   "execution_count": 122,
   "id": "10075e32-6fad-4091-98c9-4af732e12c81",
   "metadata": {
    "tags": []
   },
   "outputs": [],
   "source": [
    "crashes_over_years=df_temp[df_temp.columns[1]].tolist()"
   ]
  },
  {
   "cell_type": "code",
   "execution_count": 123,
   "id": "8026d3c8-cf35-45db-b9ec-3ddd277272d7",
   "metadata": {
    "tags": []
   },
   "outputs": [
    {
     "data": {
      "text/plain": [
       "[100545,\n",
       " 203734,\n",
       " 206033,\n",
       " 217694,\n",
       " 229831,\n",
       " 231007,\n",
       " 231564,\n",
       " 211486,\n",
       " 112915,\n",
       " 110546,\n",
       " 103743,\n",
       " 13507]"
      ]
     },
     "execution_count": 123,
     "metadata": {},
     "output_type": "execute_result"
    }
   ],
   "source": [
    "crashes_over_years"
   ]
  },
  {
   "cell_type": "code",
   "execution_count": 128,
   "id": "ea61e7db-026b-4ab9-beda-80859c5faadb",
   "metadata": {
    "tags": []
   },
   "outputs": [
    {
     "data": {
      "text/plain": [
       "<BarContainer object of 12 artists>"
      ]
     },
     "execution_count": 128,
     "metadata": {},
     "output_type": "execute_result"
    },
    {
     "data": {
      "image/png": "[encoded data removed]",
      "text/plain": [
       "<Figure size 640x480 with 1 Axes>"
      ]
     },
     "metadata": {},
     "output_type": "display_data"
    }
   ],
   "source": [
    "plt.bar(years,crashes_over_years)"
   ]
  },
  {
   "cell_type": "code",
   "execution_count": null,
   "id": "511dcb10-5230-4c93-97f9-ef108d7bc14a",
   "metadata": {},
   "outputs": [],
   "source": []
  }
 ],
 "metadata": {
  "kernelspec": {
   "display_name": "Python 3 (ipykernel)",
   "language": "python",
   "name": "python3"
  },
  "language_info": {
   "codemirror_mode": {
    "name": "ipython",
    "version": 3
   },
   "file_extension": ".py",
   "mimetype": "text/x-python",
   "name": "python",
   "nbconvert_exporter": "python",
   "pygments_lexer": "ipython3",
   "version": "3.10.9"
  }
 },
 "nbformat": 4,
 "nbformat_minor": 5
}
